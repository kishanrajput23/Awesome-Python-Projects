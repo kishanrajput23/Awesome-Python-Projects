{
 "cells": [
  {
   "cell_type": "markdown",
   "id": "f951d171",
   "metadata": {},
   "source": [
    "# BIKE SHARING DEMAND"
   ]
  },
  {
   "cell_type": "markdown",
   "id": "0cbc76d0",
   "metadata": {},
   "source": [
    "### Import Required Libraries"
   ]
  },
  {
   "cell_type": "code",
   "execution_count": 2,
   "id": "71796ae3",
   "metadata": {},
   "outputs": [],
   "source": [
    "# Ignore  the warnings\n",
    "import warnings\n",
    "warnings.filterwarnings('always')\n",
    "warnings.filterwarnings('ignore')\n",
    "\n",
    "\n",
    "# data visualisation and manipulation\n",
    "import pandas as pd\n",
    "import numpy as np \n",
    "import matplotlib.pyplot as plt\n",
    "import seaborn as sns\n",
    "%matplotlib inline \n",
    "from datetime import datetime\n",
    "import calendar\n",
    "\n",
    "\n",
    "#label Encoding on Train and Test \n",
    "from sklearn import preprocessing\n",
    "label_encoder = preprocessing.LabelEncoder()\n",
    "from sklearn.preprocessing import LabelEncoder\n",
    "\n",
    "\n",
    "#model selection\n",
    "from sklearn.model_selection import train_test_split,cross_validate\n",
    "from sklearn.model_selection import GridSearchCV\n",
    "\n",
    "#import the necessary modelling algos\n",
    "from sklearn.ensemble import RandomForestRegressor,BaggingRegressor,GradientBoostingRegressor,AdaBoostRegressor\n",
    "#from sklearn.svm import SVR\n",
    "from sklearn.neighbors import KNeighborsRegressor\n",
    "\n",
    "\n",
    "#evaluation metrics\n",
    "from sklearn.metrics import mean_squared_log_error,mean_squared_error, r2_score,mean_absolute_error"
   ]
  },
  {
   "cell_type": "markdown",
   "id": "92e94432",
   "metadata": {},
   "source": [
    "### Loading the Train Data and Test Data"
   ]
  },
  {
   "cell_type": "code",
   "execution_count": 3,
   "id": "c9b9403d",
   "metadata": {},
   "outputs": [],
   "source": [
    "Train_data = pd.read_csv('train.csv')\n",
    "Test_data = pd.read_csv('test.csv')"
   ]
  },
  {
   "cell_type": "markdown",
   "id": "f93e0300",
   "metadata": {},
   "source": [
    "### A Short description of the Features"
   ]
  },
  {
   "cell_type": "markdown",
   "id": "96630a8c",
   "metadata": {},
   "source": [
    "\n",
    "\n",
    "* datetime - hourly date + timestamp\n",
    "\n",
    "* season - 1 = spring, 2 = summer, 3 = fall, 4 = winter\n",
    "\n",
    "* holiday - whether the day is considered a holiday\n",
    "\n",
    "* workingday - whether the day is neither a weekend nor holiday\n",
    "\n",
    "* weather -\n",
    "\n",
    "         1: Clear, Few clouds, Partly cloudy, Partly cloudy\n",
    "         2: Mist + Cloudy, Mist + Broken clouds, Mist + Few clouds, Mist\n",
    "         3: Light Snow, Light Rain + Thunderstorm + Scattered clouds, Light Rain + Scattered clouds\n",
    "         4: Heavy Rain + Ice Pallets + Thunderstorm + Mist, Snow + Fog\n",
    "\n",
    "* temp - temperature in Celsius\n",
    "\n",
    "* atemp - \"feels like\" temperature in Celsius\n",
    "\n",
    "* humidity - relative humidity\n",
    "\n",
    "* windspeed - wind speed\n",
    "\n",
    "* casual - number of non-registered user rentals initiated\n",
    "\n",
    "* registered - number of registered user rentals initiated\n",
    "\n",
    "* count - number of total rentals"
   ]
  },
  {
   "cell_type": "markdown",
   "id": "b0ea10a9",
   "metadata": {},
   "source": [
    "### Data Inspection"
   ]
  },
  {
   "cell_type": "code",
   "execution_count": 4,
   "id": "151cda18",
   "metadata": {},
   "outputs": [
    {
     "data": {
      "text/html": [
       "<div>\n",
       "<style scoped>\n",
       "    .dataframe tbody tr th:only-of-type {\n",
       "        vertical-align: middle;\n",
       "    }\n",
       "\n",
       "    .dataframe tbody tr th {\n",
       "        vertical-align: top;\n",
       "    }\n",
       "\n",
       "    .dataframe thead th {\n",
       "        text-align: right;\n",
       "    }\n",
       "</style>\n",
       "<table border=\"1\" class=\"dataframe\">\n",
       "  <thead>\n",
       "    <tr style=\"text-align: right;\">\n",
       "      <th></th>\n",
       "      <th>datetime</th>\n",
       "      <th>season</th>\n",
       "      <th>holiday</th>\n",
       "      <th>workingday</th>\n",
       "      <th>weather</th>\n",
       "      <th>temp</th>\n",
       "      <th>atemp</th>\n",
       "      <th>humidity</th>\n",
       "      <th>windspeed</th>\n",
       "      <th>casual</th>\n",
       "      <th>registered</th>\n",
       "      <th>count</th>\n",
       "    </tr>\n",
       "  </thead>\n",
       "  <tbody>\n",
       "    <tr>\n",
       "      <th>0</th>\n",
       "      <td>2011-01-01 00:00:00</td>\n",
       "      <td>1</td>\n",
       "      <td>0</td>\n",
       "      <td>0</td>\n",
       "      <td>1</td>\n",
       "      <td>9.84</td>\n",
       "      <td>14.395</td>\n",
       "      <td>81</td>\n",
       "      <td>0.0</td>\n",
       "      <td>3</td>\n",
       "      <td>13</td>\n",
       "      <td>16</td>\n",
       "    </tr>\n",
       "    <tr>\n",
       "      <th>1</th>\n",
       "      <td>2011-01-01 01:00:00</td>\n",
       "      <td>1</td>\n",
       "      <td>0</td>\n",
       "      <td>0</td>\n",
       "      <td>1</td>\n",
       "      <td>9.02</td>\n",
       "      <td>13.635</td>\n",
       "      <td>80</td>\n",
       "      <td>0.0</td>\n",
       "      <td>8</td>\n",
       "      <td>32</td>\n",
       "      <td>40</td>\n",
       "    </tr>\n",
       "    <tr>\n",
       "      <th>2</th>\n",
       "      <td>2011-01-01 02:00:00</td>\n",
       "      <td>1</td>\n",
       "      <td>0</td>\n",
       "      <td>0</td>\n",
       "      <td>1</td>\n",
       "      <td>9.02</td>\n",
       "      <td>13.635</td>\n",
       "      <td>80</td>\n",
       "      <td>0.0</td>\n",
       "      <td>5</td>\n",
       "      <td>27</td>\n",
       "      <td>32</td>\n",
       "    </tr>\n",
       "    <tr>\n",
       "      <th>3</th>\n",
       "      <td>2011-01-01 03:00:00</td>\n",
       "      <td>1</td>\n",
       "      <td>0</td>\n",
       "      <td>0</td>\n",
       "      <td>1</td>\n",
       "      <td>9.84</td>\n",
       "      <td>14.395</td>\n",
       "      <td>75</td>\n",
       "      <td>0.0</td>\n",
       "      <td>3</td>\n",
       "      <td>10</td>\n",
       "      <td>13</td>\n",
       "    </tr>\n",
       "    <tr>\n",
       "      <th>4</th>\n",
       "      <td>2011-01-01 04:00:00</td>\n",
       "      <td>1</td>\n",
       "      <td>0</td>\n",
       "      <td>0</td>\n",
       "      <td>1</td>\n",
       "      <td>9.84</td>\n",
       "      <td>14.395</td>\n",
       "      <td>75</td>\n",
       "      <td>0.0</td>\n",
       "      <td>0</td>\n",
       "      <td>1</td>\n",
       "      <td>1</td>\n",
       "    </tr>\n",
       "  </tbody>\n",
       "</table>\n",
       "</div>"
      ],
      "text/plain": [
       "              datetime  season  holiday  workingday  weather  temp   atemp  \\\n",
       "0  2011-01-01 00:00:00       1        0           0        1  9.84  14.395   \n",
       "1  2011-01-01 01:00:00       1        0           0        1  9.02  13.635   \n",
       "2  2011-01-01 02:00:00       1        0           0        1  9.02  13.635   \n",
       "3  2011-01-01 03:00:00       1        0           0        1  9.84  14.395   \n",
       "4  2011-01-01 04:00:00       1        0           0        1  9.84  14.395   \n",
       "\n",
       "   humidity  windspeed  casual  registered  count  \n",
       "0        81        0.0       3          13     16  \n",
       "1        80        0.0       8          32     40  \n",
       "2        80        0.0       5          27     32  \n",
       "3        75        0.0       3          10     13  \n",
       "4        75        0.0       0           1      1  "
      ]
     },
     "execution_count": 4,
     "metadata": {},
     "output_type": "execute_result"
    }
   ],
   "source": [
    "Train_data.head()"
   ]
  },
  {
   "cell_type": "code",
   "execution_count": 5,
   "id": "4c07ccc3",
   "metadata": {},
   "outputs": [
    {
     "data": {
      "text/html": [
       "<div>\n",
       "<style scoped>\n",
       "    .dataframe tbody tr th:only-of-type {\n",
       "        vertical-align: middle;\n",
       "    }\n",
       "\n",
       "    .dataframe tbody tr th {\n",
       "        vertical-align: top;\n",
       "    }\n",
       "\n",
       "    .dataframe thead th {\n",
       "        text-align: right;\n",
       "    }\n",
       "</style>\n",
       "<table border=\"1\" class=\"dataframe\">\n",
       "  <thead>\n",
       "    <tr style=\"text-align: right;\">\n",
       "      <th></th>\n",
       "      <th>datetime</th>\n",
       "      <th>season</th>\n",
       "      <th>holiday</th>\n",
       "      <th>workingday</th>\n",
       "      <th>weather</th>\n",
       "      <th>temp</th>\n",
       "      <th>atemp</th>\n",
       "      <th>humidity</th>\n",
       "      <th>windspeed</th>\n",
       "    </tr>\n",
       "  </thead>\n",
       "  <tbody>\n",
       "    <tr>\n",
       "      <th>0</th>\n",
       "      <td>2011-01-20 00:00:00</td>\n",
       "      <td>1</td>\n",
       "      <td>0</td>\n",
       "      <td>1</td>\n",
       "      <td>1</td>\n",
       "      <td>10.66</td>\n",
       "      <td>11.365</td>\n",
       "      <td>56</td>\n",
       "      <td>26.0027</td>\n",
       "    </tr>\n",
       "    <tr>\n",
       "      <th>1</th>\n",
       "      <td>2011-01-20 01:00:00</td>\n",
       "      <td>1</td>\n",
       "      <td>0</td>\n",
       "      <td>1</td>\n",
       "      <td>1</td>\n",
       "      <td>10.66</td>\n",
       "      <td>13.635</td>\n",
       "      <td>56</td>\n",
       "      <td>0.0000</td>\n",
       "    </tr>\n",
       "    <tr>\n",
       "      <th>2</th>\n",
       "      <td>2011-01-20 02:00:00</td>\n",
       "      <td>1</td>\n",
       "      <td>0</td>\n",
       "      <td>1</td>\n",
       "      <td>1</td>\n",
       "      <td>10.66</td>\n",
       "      <td>13.635</td>\n",
       "      <td>56</td>\n",
       "      <td>0.0000</td>\n",
       "    </tr>\n",
       "    <tr>\n",
       "      <th>3</th>\n",
       "      <td>2011-01-20 03:00:00</td>\n",
       "      <td>1</td>\n",
       "      <td>0</td>\n",
       "      <td>1</td>\n",
       "      <td>1</td>\n",
       "      <td>10.66</td>\n",
       "      <td>12.880</td>\n",
       "      <td>56</td>\n",
       "      <td>11.0014</td>\n",
       "    </tr>\n",
       "    <tr>\n",
       "      <th>4</th>\n",
       "      <td>2011-01-20 04:00:00</td>\n",
       "      <td>1</td>\n",
       "      <td>0</td>\n",
       "      <td>1</td>\n",
       "      <td>1</td>\n",
       "      <td>10.66</td>\n",
       "      <td>12.880</td>\n",
       "      <td>56</td>\n",
       "      <td>11.0014</td>\n",
       "    </tr>\n",
       "  </tbody>\n",
       "</table>\n",
       "</div>"
      ],
      "text/plain": [
       "              datetime  season  holiday  workingday  weather   temp   atemp  \\\n",
       "0  2011-01-20 00:00:00       1        0           1        1  10.66  11.365   \n",
       "1  2011-01-20 01:00:00       1        0           1        1  10.66  13.635   \n",
       "2  2011-01-20 02:00:00       1        0           1        1  10.66  13.635   \n",
       "3  2011-01-20 03:00:00       1        0           1        1  10.66  12.880   \n",
       "4  2011-01-20 04:00:00       1        0           1        1  10.66  12.880   \n",
       "\n",
       "   humidity  windspeed  \n",
       "0        56    26.0027  \n",
       "1        56     0.0000  \n",
       "2        56     0.0000  \n",
       "3        56    11.0014  \n",
       "4        56    11.0014  "
      ]
     },
     "execution_count": 5,
     "metadata": {},
     "output_type": "execute_result"
    }
   ],
   "source": [
    "Test_data.head()"
   ]
  },
  {
   "cell_type": "code",
   "execution_count": 6,
   "id": "01267e89",
   "metadata": {},
   "outputs": [
    {
     "name": "stdout",
     "output_type": "stream",
     "text": [
      "Shape of the Train data: (10886, 12)\n",
      "Shape of the Test data: (6493, 9)\n"
     ]
    }
   ],
   "source": [
    "# Shape of the dataset\n",
    "print('Shape of the Train data:',Train_data.shape)\n",
    "print('Shape of the Test data:',Test_data.shape)"
   ]
  },
  {
   "cell_type": "markdown",
   "id": "53ebd96b",
   "metadata": {},
   "source": [
    "* **The Train data contains 10886 rows and 12 columns including the target column.**\n",
    "* **The Test data contains 6493 rows and 9 columns.**"
   ]
  },
  {
   "cell_type": "code",
   "execution_count": 7,
   "id": "a699b3f1",
   "metadata": {},
   "outputs": [
    {
     "name": "stdout",
     "output_type": "stream",
     "text": [
      "Data type of Train data :\n",
      " datetime       object\n",
      "season          int64\n",
      "holiday         int64\n",
      "workingday      int64\n",
      "weather         int64\n",
      "temp          float64\n",
      "atemp         float64\n",
      "humidity        int64\n",
      "windspeed     float64\n",
      "casual          int64\n",
      "registered      int64\n",
      "count           int64\n",
      "dtype: object \n",
      "\n",
      "\n",
      "Data type of Test data :\n",
      " datetime       object\n",
      "season          int64\n",
      "holiday         int64\n",
      "workingday      int64\n",
      "weather         int64\n",
      "temp          float64\n",
      "atemp         float64\n",
      "humidity        int64\n",
      "windspeed     float64\n",
      "dtype: object\n"
     ]
    }
   ],
   "source": [
    "# Checking the data types of each column of this dataset.\n",
    "print('Data type of Train data :\\n', Train_data.dtypes,'\\n\\n')\n",
    "print('Data type of Test data :\\n', Test_data.dtypes)"
   ]
  },
  {
   "cell_type": "code",
   "execution_count": 8,
   "id": "00081e1a",
   "metadata": {},
   "outputs": [
    {
     "name": "stdout",
     "output_type": "stream",
     "text": [
      "Columns of Train data :\n",
      " Index(['datetime', 'season', 'holiday', 'workingday', 'weather', 'temp',\n",
      "       'atemp', 'humidity', 'windspeed', 'casual', 'registered', 'count'],\n",
      "      dtype='object') \n",
      "\n",
      "\n",
      "\n",
      "Columns of Test data :\n",
      " Index(['datetime', 'season', 'holiday', 'workingday', 'weather', 'temp',\n",
      "       'atemp', 'humidity', 'windspeed'],\n",
      "      dtype='object')\n"
     ]
    }
   ],
   "source": [
    "# Checking the columns of both the data.\n",
    "print('Columns of Train data :\\n' , Train_data.columns,'\\n\\n\\n')\n",
    "print('Columns of Test data :\\n', Test_data.columns)"
   ]
  },
  {
   "cell_type": "markdown",
   "id": "b74d9c46",
   "metadata": {},
   "source": [
    "**Test data does not include the target variable. i.e. 'casual', 'registered' and 'count' Column**"
   ]
  },
  {
   "cell_type": "code",
   "execution_count": 9,
   "id": "cb4d4095",
   "metadata": {},
   "outputs": [
    {
     "name": "stdout",
     "output_type": "stream",
     "text": [
      "<class 'pandas.core.frame.DataFrame'>\n",
      "RangeIndex: 10886 entries, 0 to 10885\n",
      "Data columns (total 12 columns):\n",
      " #   Column      Non-Null Count  Dtype  \n",
      "---  ------      --------------  -----  \n",
      " 0   datetime    10886 non-null  object \n",
      " 1   season      10886 non-null  int64  \n",
      " 2   holiday     10886 non-null  int64  \n",
      " 3   workingday  10886 non-null  int64  \n",
      " 4   weather     10886 non-null  int64  \n",
      " 5   temp        10886 non-null  float64\n",
      " 6   atemp       10886 non-null  float64\n",
      " 7   humidity    10886 non-null  int64  \n",
      " 8   windspeed   10886 non-null  float64\n",
      " 9   casual      10886 non-null  int64  \n",
      " 10  registered  10886 non-null  int64  \n",
      " 11  count       10886 non-null  int64  \n",
      "dtypes: float64(3), int64(8), object(1)\n",
      "memory usage: 1020.7+ KB\n",
      "None \n",
      "\n",
      "\n",
      "<class 'pandas.core.frame.DataFrame'>\n",
      "RangeIndex: 6493 entries, 0 to 6492\n",
      "Data columns (total 9 columns):\n",
      " #   Column      Non-Null Count  Dtype  \n",
      "---  ------      --------------  -----  \n",
      " 0   datetime    6493 non-null   object \n",
      " 1   season      6493 non-null   int64  \n",
      " 2   holiday     6493 non-null   int64  \n",
      " 3   workingday  6493 non-null   int64  \n",
      " 4   weather     6493 non-null   int64  \n",
      " 5   temp        6493 non-null   float64\n",
      " 6   atemp       6493 non-null   float64\n",
      " 7   humidity    6493 non-null   int64  \n",
      " 8   windspeed   6493 non-null   float64\n",
      "dtypes: float64(3), int64(5), object(1)\n",
      "memory usage: 456.7+ KB\n",
      "None\n"
     ]
    }
   ],
   "source": [
    "# Information of both the data\n",
    "print( Train_data.info(),'\\n\\n')\n",
    "print( Test_data.info())"
   ]
  },
  {
   "cell_type": "code",
   "execution_count": 10,
   "id": "667290d2",
   "metadata": {},
   "outputs": [
    {
     "data": {
      "text/html": [
       "<div>\n",
       "<style scoped>\n",
       "    .dataframe tbody tr th:only-of-type {\n",
       "        vertical-align: middle;\n",
       "    }\n",
       "\n",
       "    .dataframe tbody tr th {\n",
       "        vertical-align: top;\n",
       "    }\n",
       "\n",
       "    .dataframe thead th {\n",
       "        text-align: right;\n",
       "    }\n",
       "</style>\n",
       "<table border=\"1\" class=\"dataframe\">\n",
       "  <thead>\n",
       "    <tr style=\"text-align: right;\">\n",
       "      <th></th>\n",
       "      <th>season</th>\n",
       "      <th>holiday</th>\n",
       "      <th>workingday</th>\n",
       "      <th>weather</th>\n",
       "      <th>temp</th>\n",
       "      <th>atemp</th>\n",
       "      <th>humidity</th>\n",
       "      <th>windspeed</th>\n",
       "      <th>casual</th>\n",
       "      <th>registered</th>\n",
       "      <th>count</th>\n",
       "    </tr>\n",
       "  </thead>\n",
       "  <tbody>\n",
       "    <tr>\n",
       "      <th>count</th>\n",
       "      <td>10886.000000</td>\n",
       "      <td>10886.000000</td>\n",
       "      <td>10886.000000</td>\n",
       "      <td>10886.000000</td>\n",
       "      <td>10886.00000</td>\n",
       "      <td>10886.000000</td>\n",
       "      <td>10886.000000</td>\n",
       "      <td>10886.000000</td>\n",
       "      <td>10886.000000</td>\n",
       "      <td>10886.000000</td>\n",
       "      <td>10886.000000</td>\n",
       "    </tr>\n",
       "    <tr>\n",
       "      <th>mean</th>\n",
       "      <td>2.506614</td>\n",
       "      <td>0.028569</td>\n",
       "      <td>0.680875</td>\n",
       "      <td>1.418427</td>\n",
       "      <td>20.23086</td>\n",
       "      <td>23.655084</td>\n",
       "      <td>61.886460</td>\n",
       "      <td>12.799395</td>\n",
       "      <td>36.021955</td>\n",
       "      <td>155.552177</td>\n",
       "      <td>191.574132</td>\n",
       "    </tr>\n",
       "    <tr>\n",
       "      <th>std</th>\n",
       "      <td>1.116174</td>\n",
       "      <td>0.166599</td>\n",
       "      <td>0.466159</td>\n",
       "      <td>0.633839</td>\n",
       "      <td>7.79159</td>\n",
       "      <td>8.474601</td>\n",
       "      <td>19.245033</td>\n",
       "      <td>8.164537</td>\n",
       "      <td>49.960477</td>\n",
       "      <td>151.039033</td>\n",
       "      <td>181.144454</td>\n",
       "    </tr>\n",
       "    <tr>\n",
       "      <th>min</th>\n",
       "      <td>1.000000</td>\n",
       "      <td>0.000000</td>\n",
       "      <td>0.000000</td>\n",
       "      <td>1.000000</td>\n",
       "      <td>0.82000</td>\n",
       "      <td>0.760000</td>\n",
       "      <td>0.000000</td>\n",
       "      <td>0.000000</td>\n",
       "      <td>0.000000</td>\n",
       "      <td>0.000000</td>\n",
       "      <td>1.000000</td>\n",
       "    </tr>\n",
       "    <tr>\n",
       "      <th>25%</th>\n",
       "      <td>2.000000</td>\n",
       "      <td>0.000000</td>\n",
       "      <td>0.000000</td>\n",
       "      <td>1.000000</td>\n",
       "      <td>13.94000</td>\n",
       "      <td>16.665000</td>\n",
       "      <td>47.000000</td>\n",
       "      <td>7.001500</td>\n",
       "      <td>4.000000</td>\n",
       "      <td>36.000000</td>\n",
       "      <td>42.000000</td>\n",
       "    </tr>\n",
       "    <tr>\n",
       "      <th>50%</th>\n",
       "      <td>3.000000</td>\n",
       "      <td>0.000000</td>\n",
       "      <td>1.000000</td>\n",
       "      <td>1.000000</td>\n",
       "      <td>20.50000</td>\n",
       "      <td>24.240000</td>\n",
       "      <td>62.000000</td>\n",
       "      <td>12.998000</td>\n",
       "      <td>17.000000</td>\n",
       "      <td>118.000000</td>\n",
       "      <td>145.000000</td>\n",
       "    </tr>\n",
       "    <tr>\n",
       "      <th>75%</th>\n",
       "      <td>4.000000</td>\n",
       "      <td>0.000000</td>\n",
       "      <td>1.000000</td>\n",
       "      <td>2.000000</td>\n",
       "      <td>26.24000</td>\n",
       "      <td>31.060000</td>\n",
       "      <td>77.000000</td>\n",
       "      <td>16.997900</td>\n",
       "      <td>49.000000</td>\n",
       "      <td>222.000000</td>\n",
       "      <td>284.000000</td>\n",
       "    </tr>\n",
       "    <tr>\n",
       "      <th>max</th>\n",
       "      <td>4.000000</td>\n",
       "      <td>1.000000</td>\n",
       "      <td>1.000000</td>\n",
       "      <td>4.000000</td>\n",
       "      <td>41.00000</td>\n",
       "      <td>45.455000</td>\n",
       "      <td>100.000000</td>\n",
       "      <td>56.996900</td>\n",
       "      <td>367.000000</td>\n",
       "      <td>886.000000</td>\n",
       "      <td>977.000000</td>\n",
       "    </tr>\n",
       "  </tbody>\n",
       "</table>\n",
       "</div>"
      ],
      "text/plain": [
       "             season       holiday    workingday       weather         temp  \\\n",
       "count  10886.000000  10886.000000  10886.000000  10886.000000  10886.00000   \n",
       "mean       2.506614      0.028569      0.680875      1.418427     20.23086   \n",
       "std        1.116174      0.166599      0.466159      0.633839      7.79159   \n",
       "min        1.000000      0.000000      0.000000      1.000000      0.82000   \n",
       "25%        2.000000      0.000000      0.000000      1.000000     13.94000   \n",
       "50%        3.000000      0.000000      1.000000      1.000000     20.50000   \n",
       "75%        4.000000      0.000000      1.000000      2.000000     26.24000   \n",
       "max        4.000000      1.000000      1.000000      4.000000     41.00000   \n",
       "\n",
       "              atemp      humidity     windspeed        casual    registered  \\\n",
       "count  10886.000000  10886.000000  10886.000000  10886.000000  10886.000000   \n",
       "mean      23.655084     61.886460     12.799395     36.021955    155.552177   \n",
       "std        8.474601     19.245033      8.164537     49.960477    151.039033   \n",
       "min        0.760000      0.000000      0.000000      0.000000      0.000000   \n",
       "25%       16.665000     47.000000      7.001500      4.000000     36.000000   \n",
       "50%       24.240000     62.000000     12.998000     17.000000    118.000000   \n",
       "75%       31.060000     77.000000     16.997900     49.000000    222.000000   \n",
       "max       45.455000    100.000000     56.996900    367.000000    886.000000   \n",
       "\n",
       "              count  \n",
       "count  10886.000000  \n",
       "mean     191.574132  \n",
       "std      181.144454  \n",
       "min        1.000000  \n",
       "25%       42.000000  \n",
       "50%      145.000000  \n",
       "75%      284.000000  \n",
       "max      977.000000  "
      ]
     },
     "execution_count": 10,
     "metadata": {},
     "output_type": "execute_result"
    }
   ],
   "source": [
    "# Describe both data\n",
    "Train_data.describe()"
   ]
  },
  {
   "cell_type": "code",
   "execution_count": 11,
   "id": "e6de1a5c",
   "metadata": {},
   "outputs": [
    {
     "data": {
      "text/html": [
       "<div>\n",
       "<style scoped>\n",
       "    .dataframe tbody tr th:only-of-type {\n",
       "        vertical-align: middle;\n",
       "    }\n",
       "\n",
       "    .dataframe tbody tr th {\n",
       "        vertical-align: top;\n",
       "    }\n",
       "\n",
       "    .dataframe thead th {\n",
       "        text-align: right;\n",
       "    }\n",
       "</style>\n",
       "<table border=\"1\" class=\"dataframe\">\n",
       "  <thead>\n",
       "    <tr style=\"text-align: right;\">\n",
       "      <th></th>\n",
       "      <th>season</th>\n",
       "      <th>holiday</th>\n",
       "      <th>workingday</th>\n",
       "      <th>weather</th>\n",
       "      <th>temp</th>\n",
       "      <th>atemp</th>\n",
       "      <th>humidity</th>\n",
       "      <th>windspeed</th>\n",
       "    </tr>\n",
       "  </thead>\n",
       "  <tbody>\n",
       "    <tr>\n",
       "      <th>count</th>\n",
       "      <td>6493.000000</td>\n",
       "      <td>6493.000000</td>\n",
       "      <td>6493.000000</td>\n",
       "      <td>6493.000000</td>\n",
       "      <td>6493.000000</td>\n",
       "      <td>6493.000000</td>\n",
       "      <td>6493.000000</td>\n",
       "      <td>6493.000000</td>\n",
       "    </tr>\n",
       "    <tr>\n",
       "      <th>mean</th>\n",
       "      <td>2.493300</td>\n",
       "      <td>0.029108</td>\n",
       "      <td>0.685815</td>\n",
       "      <td>1.436778</td>\n",
       "      <td>20.620607</td>\n",
       "      <td>24.012865</td>\n",
       "      <td>64.125212</td>\n",
       "      <td>12.631157</td>\n",
       "    </tr>\n",
       "    <tr>\n",
       "      <th>std</th>\n",
       "      <td>1.091258</td>\n",
       "      <td>0.168123</td>\n",
       "      <td>0.464226</td>\n",
       "      <td>0.648390</td>\n",
       "      <td>8.059583</td>\n",
       "      <td>8.782741</td>\n",
       "      <td>19.293391</td>\n",
       "      <td>8.250151</td>\n",
       "    </tr>\n",
       "    <tr>\n",
       "      <th>min</th>\n",
       "      <td>1.000000</td>\n",
       "      <td>0.000000</td>\n",
       "      <td>0.000000</td>\n",
       "      <td>1.000000</td>\n",
       "      <td>0.820000</td>\n",
       "      <td>0.000000</td>\n",
       "      <td>16.000000</td>\n",
       "      <td>0.000000</td>\n",
       "    </tr>\n",
       "    <tr>\n",
       "      <th>25%</th>\n",
       "      <td>2.000000</td>\n",
       "      <td>0.000000</td>\n",
       "      <td>0.000000</td>\n",
       "      <td>1.000000</td>\n",
       "      <td>13.940000</td>\n",
       "      <td>16.665000</td>\n",
       "      <td>49.000000</td>\n",
       "      <td>7.001500</td>\n",
       "    </tr>\n",
       "    <tr>\n",
       "      <th>50%</th>\n",
       "      <td>3.000000</td>\n",
       "      <td>0.000000</td>\n",
       "      <td>1.000000</td>\n",
       "      <td>1.000000</td>\n",
       "      <td>21.320000</td>\n",
       "      <td>25.000000</td>\n",
       "      <td>65.000000</td>\n",
       "      <td>11.001400</td>\n",
       "    </tr>\n",
       "    <tr>\n",
       "      <th>75%</th>\n",
       "      <td>3.000000</td>\n",
       "      <td>0.000000</td>\n",
       "      <td>1.000000</td>\n",
       "      <td>2.000000</td>\n",
       "      <td>27.060000</td>\n",
       "      <td>31.060000</td>\n",
       "      <td>81.000000</td>\n",
       "      <td>16.997900</td>\n",
       "    </tr>\n",
       "    <tr>\n",
       "      <th>max</th>\n",
       "      <td>4.000000</td>\n",
       "      <td>1.000000</td>\n",
       "      <td>1.000000</td>\n",
       "      <td>4.000000</td>\n",
       "      <td>40.180000</td>\n",
       "      <td>50.000000</td>\n",
       "      <td>100.000000</td>\n",
       "      <td>55.998600</td>\n",
       "    </tr>\n",
       "  </tbody>\n",
       "</table>\n",
       "</div>"
      ],
      "text/plain": [
       "            season      holiday   workingday      weather         temp  \\\n",
       "count  6493.000000  6493.000000  6493.000000  6493.000000  6493.000000   \n",
       "mean      2.493300     0.029108     0.685815     1.436778    20.620607   \n",
       "std       1.091258     0.168123     0.464226     0.648390     8.059583   \n",
       "min       1.000000     0.000000     0.000000     1.000000     0.820000   \n",
       "25%       2.000000     0.000000     0.000000     1.000000    13.940000   \n",
       "50%       3.000000     0.000000     1.000000     1.000000    21.320000   \n",
       "75%       3.000000     0.000000     1.000000     2.000000    27.060000   \n",
       "max       4.000000     1.000000     1.000000     4.000000    40.180000   \n",
       "\n",
       "             atemp     humidity    windspeed  \n",
       "count  6493.000000  6493.000000  6493.000000  \n",
       "mean     24.012865    64.125212    12.631157  \n",
       "std       8.782741    19.293391     8.250151  \n",
       "min       0.000000    16.000000     0.000000  \n",
       "25%      16.665000    49.000000     7.001500  \n",
       "50%      25.000000    65.000000    11.001400  \n",
       "75%      31.060000    81.000000    16.997900  \n",
       "max      50.000000   100.000000    55.998600  "
      ]
     },
     "execution_count": 11,
     "metadata": {},
     "output_type": "execute_result"
    }
   ],
   "source": [
    "Test_data.describe()"
   ]
  },
  {
   "cell_type": "markdown",
   "id": "b1b4c659",
   "metadata": {},
   "source": [
    "### Feature Selection & Extraction"
   ]
  },
  {
   "cell_type": "markdown",
   "id": "c6fa4f98",
   "metadata": {},
   "source": [
    "**Now most importantly split the date and time as the time of day is expected to effect the no of bikes. for example at office hours like early mornning or evening one would expect a greater demand of rental bikes. Datetime column is in object data type. Thus, extracting date, month, weekday and hour in both Train and Test data from datetime.**"
   ]
  },
  {
   "cell_type": "code",
   "execution_count": 12,
   "id": "982543c0",
   "metadata": {},
   "outputs": [],
   "source": [
    "Train_data[\"date\"] = Train_data.datetime.apply(lambda x : x.split()[0])\n",
    "Train_data[\"day\"] = Train_data.datetime.apply(lambda x : x.split()[0].split(\"-\")[2])\n",
    "Train_data[\"hour\"] = Train_data.datetime.apply(lambda x : x.split()[1].split(\":\")[0])\n",
    "Train_data[\"year\"] = Train_data.datetime.apply(lambda x : x.split()[0].split(\"-\")[0])\n",
    "Train_data[\"weekday\"] = Train_data.date.apply(lambda x : calendar.day_name[datetime.strptime(x,\"%Y-%m-%d\").weekday()])\n",
    "Train_data[\"month\"] = Train_data.date.apply(lambda dateString : calendar.month_name[datetime.strptime(dateString,\"%Y-%m-%d\").month])"
   ]
  },
  {
   "cell_type": "code",
   "execution_count": 13,
   "id": "d6a9564c",
   "metadata": {},
   "outputs": [
    {
     "data": {
      "text/html": [
       "<div>\n",
       "<style scoped>\n",
       "    .dataframe tbody tr th:only-of-type {\n",
       "        vertical-align: middle;\n",
       "    }\n",
       "\n",
       "    .dataframe tbody tr th {\n",
       "        vertical-align: top;\n",
       "    }\n",
       "\n",
       "    .dataframe thead th {\n",
       "        text-align: right;\n",
       "    }\n",
       "</style>\n",
       "<table border=\"1\" class=\"dataframe\">\n",
       "  <thead>\n",
       "    <tr style=\"text-align: right;\">\n",
       "      <th></th>\n",
       "      <th>datetime</th>\n",
       "      <th>season</th>\n",
       "      <th>holiday</th>\n",
       "      <th>workingday</th>\n",
       "      <th>weather</th>\n",
       "      <th>temp</th>\n",
       "      <th>atemp</th>\n",
       "      <th>humidity</th>\n",
       "      <th>windspeed</th>\n",
       "      <th>casual</th>\n",
       "      <th>registered</th>\n",
       "      <th>count</th>\n",
       "      <th>date</th>\n",
       "      <th>day</th>\n",
       "      <th>hour</th>\n",
       "      <th>year</th>\n",
       "      <th>weekday</th>\n",
       "      <th>month</th>\n",
       "    </tr>\n",
       "  </thead>\n",
       "  <tbody>\n",
       "    <tr>\n",
       "      <th>0</th>\n",
       "      <td>2011-01-01 00:00:00</td>\n",
       "      <td>1</td>\n",
       "      <td>0</td>\n",
       "      <td>0</td>\n",
       "      <td>1</td>\n",
       "      <td>9.84</td>\n",
       "      <td>14.395</td>\n",
       "      <td>81</td>\n",
       "      <td>0.0</td>\n",
       "      <td>3</td>\n",
       "      <td>13</td>\n",
       "      <td>16</td>\n",
       "      <td>2011-01-01</td>\n",
       "      <td>01</td>\n",
       "      <td>00</td>\n",
       "      <td>2011</td>\n",
       "      <td>Saturday</td>\n",
       "      <td>January</td>\n",
       "    </tr>\n",
       "    <tr>\n",
       "      <th>1</th>\n",
       "      <td>2011-01-01 01:00:00</td>\n",
       "      <td>1</td>\n",
       "      <td>0</td>\n",
       "      <td>0</td>\n",
       "      <td>1</td>\n",
       "      <td>9.02</td>\n",
       "      <td>13.635</td>\n",
       "      <td>80</td>\n",
       "      <td>0.0</td>\n",
       "      <td>8</td>\n",
       "      <td>32</td>\n",
       "      <td>40</td>\n",
       "      <td>2011-01-01</td>\n",
       "      <td>01</td>\n",
       "      <td>01</td>\n",
       "      <td>2011</td>\n",
       "      <td>Saturday</td>\n",
       "      <td>January</td>\n",
       "    </tr>\n",
       "    <tr>\n",
       "      <th>2</th>\n",
       "      <td>2011-01-01 02:00:00</td>\n",
       "      <td>1</td>\n",
       "      <td>0</td>\n",
       "      <td>0</td>\n",
       "      <td>1</td>\n",
       "      <td>9.02</td>\n",
       "      <td>13.635</td>\n",
       "      <td>80</td>\n",
       "      <td>0.0</td>\n",
       "      <td>5</td>\n",
       "      <td>27</td>\n",
       "      <td>32</td>\n",
       "      <td>2011-01-01</td>\n",
       "      <td>01</td>\n",
       "      <td>02</td>\n",
       "      <td>2011</td>\n",
       "      <td>Saturday</td>\n",
       "      <td>January</td>\n",
       "    </tr>\n",
       "    <tr>\n",
       "      <th>3</th>\n",
       "      <td>2011-01-01 03:00:00</td>\n",
       "      <td>1</td>\n",
       "      <td>0</td>\n",
       "      <td>0</td>\n",
       "      <td>1</td>\n",
       "      <td>9.84</td>\n",
       "      <td>14.395</td>\n",
       "      <td>75</td>\n",
       "      <td>0.0</td>\n",
       "      <td>3</td>\n",
       "      <td>10</td>\n",
       "      <td>13</td>\n",
       "      <td>2011-01-01</td>\n",
       "      <td>01</td>\n",
       "      <td>03</td>\n",
       "      <td>2011</td>\n",
       "      <td>Saturday</td>\n",
       "      <td>January</td>\n",
       "    </tr>\n",
       "    <tr>\n",
       "      <th>4</th>\n",
       "      <td>2011-01-01 04:00:00</td>\n",
       "      <td>1</td>\n",
       "      <td>0</td>\n",
       "      <td>0</td>\n",
       "      <td>1</td>\n",
       "      <td>9.84</td>\n",
       "      <td>14.395</td>\n",
       "      <td>75</td>\n",
       "      <td>0.0</td>\n",
       "      <td>0</td>\n",
       "      <td>1</td>\n",
       "      <td>1</td>\n",
       "      <td>2011-01-01</td>\n",
       "      <td>01</td>\n",
       "      <td>04</td>\n",
       "      <td>2011</td>\n",
       "      <td>Saturday</td>\n",
       "      <td>January</td>\n",
       "    </tr>\n",
       "  </tbody>\n",
       "</table>\n",
       "</div>"
      ],
      "text/plain": [
       "              datetime  season  holiday  workingday  weather  temp   atemp  \\\n",
       "0  2011-01-01 00:00:00       1        0           0        1  9.84  14.395   \n",
       "1  2011-01-01 01:00:00       1        0           0        1  9.02  13.635   \n",
       "2  2011-01-01 02:00:00       1        0           0        1  9.02  13.635   \n",
       "3  2011-01-01 03:00:00       1        0           0        1  9.84  14.395   \n",
       "4  2011-01-01 04:00:00       1        0           0        1  9.84  14.395   \n",
       "\n",
       "   humidity  windspeed  casual  registered  count        date day hour  year  \\\n",
       "0        81        0.0       3          13     16  2011-01-01  01   00  2011   \n",
       "1        80        0.0       8          32     40  2011-01-01  01   01  2011   \n",
       "2        80        0.0       5          27     32  2011-01-01  01   02  2011   \n",
       "3        75        0.0       3          10     13  2011-01-01  01   03  2011   \n",
       "4        75        0.0       0           1      1  2011-01-01  01   04  2011   \n",
       "\n",
       "    weekday    month  \n",
       "0  Saturday  January  \n",
       "1  Saturday  January  \n",
       "2  Saturday  January  \n",
       "3  Saturday  January  \n",
       "4  Saturday  January  "
      ]
     },
     "execution_count": 13,
     "metadata": {},
     "output_type": "execute_result"
    }
   ],
   "source": [
    "Train_data.head()"
   ]
  },
  {
   "cell_type": "code",
   "execution_count": 14,
   "id": "3a952988",
   "metadata": {},
   "outputs": [],
   "source": [
    "Test_data[\"date\"] = Test_data.datetime.apply(lambda x : x.split()[0])\n",
    "Test_data[\"day\"] =Test_data.datetime.apply(lambda x : x.split()[0].split(\"-\")[2])\n",
    "Test_data[\"hour\"] = Test_data.datetime.apply(lambda x : x.split()[1].split(\":\")[0])\n",
    "Test_data[\"year\"] = Test_data.datetime.apply(lambda x : x.split()[0].split(\"-\")[0])\n",
    "Test_data[\"weekday\"] = Test_data.date.apply(lambda x : calendar.day_name[datetime.strptime(x,\"%Y-%m-%d\").weekday()])\n",
    "Test_data[\"month\"] = Test_data.date.apply(lambda dateString : calendar.month_name[datetime.strptime(dateString,\"%Y-%m-%d\").month])"
   ]
  },
  {
   "cell_type": "code",
   "execution_count": 15,
   "id": "05cd13cb",
   "metadata": {},
   "outputs": [
    {
     "data": {
      "text/html": [
       "<div>\n",
       "<style scoped>\n",
       "    .dataframe tbody tr th:only-of-type {\n",
       "        vertical-align: middle;\n",
       "    }\n",
       "\n",
       "    .dataframe tbody tr th {\n",
       "        vertical-align: top;\n",
       "    }\n",
       "\n",
       "    .dataframe thead th {\n",
       "        text-align: right;\n",
       "    }\n",
       "</style>\n",
       "<table border=\"1\" class=\"dataframe\">\n",
       "  <thead>\n",
       "    <tr style=\"text-align: right;\">\n",
       "      <th></th>\n",
       "      <th>datetime</th>\n",
       "      <th>season</th>\n",
       "      <th>holiday</th>\n",
       "      <th>workingday</th>\n",
       "      <th>weather</th>\n",
       "      <th>temp</th>\n",
       "      <th>atemp</th>\n",
       "      <th>humidity</th>\n",
       "      <th>windspeed</th>\n",
       "      <th>date</th>\n",
       "      <th>day</th>\n",
       "      <th>hour</th>\n",
       "      <th>year</th>\n",
       "      <th>weekday</th>\n",
       "      <th>month</th>\n",
       "    </tr>\n",
       "  </thead>\n",
       "  <tbody>\n",
       "    <tr>\n",
       "      <th>0</th>\n",
       "      <td>2011-01-20 00:00:00</td>\n",
       "      <td>1</td>\n",
       "      <td>0</td>\n",
       "      <td>1</td>\n",
       "      <td>1</td>\n",
       "      <td>10.66</td>\n",
       "      <td>11.365</td>\n",
       "      <td>56</td>\n",
       "      <td>26.0027</td>\n",
       "      <td>2011-01-20</td>\n",
       "      <td>20</td>\n",
       "      <td>00</td>\n",
       "      <td>2011</td>\n",
       "      <td>Thursday</td>\n",
       "      <td>January</td>\n",
       "    </tr>\n",
       "    <tr>\n",
       "      <th>1</th>\n",
       "      <td>2011-01-20 01:00:00</td>\n",
       "      <td>1</td>\n",
       "      <td>0</td>\n",
       "      <td>1</td>\n",
       "      <td>1</td>\n",
       "      <td>10.66</td>\n",
       "      <td>13.635</td>\n",
       "      <td>56</td>\n",
       "      <td>0.0000</td>\n",
       "      <td>2011-01-20</td>\n",
       "      <td>20</td>\n",
       "      <td>01</td>\n",
       "      <td>2011</td>\n",
       "      <td>Thursday</td>\n",
       "      <td>January</td>\n",
       "    </tr>\n",
       "    <tr>\n",
       "      <th>2</th>\n",
       "      <td>2011-01-20 02:00:00</td>\n",
       "      <td>1</td>\n",
       "      <td>0</td>\n",
       "      <td>1</td>\n",
       "      <td>1</td>\n",
       "      <td>10.66</td>\n",
       "      <td>13.635</td>\n",
       "      <td>56</td>\n",
       "      <td>0.0000</td>\n",
       "      <td>2011-01-20</td>\n",
       "      <td>20</td>\n",
       "      <td>02</td>\n",
       "      <td>2011</td>\n",
       "      <td>Thursday</td>\n",
       "      <td>January</td>\n",
       "    </tr>\n",
       "    <tr>\n",
       "      <th>3</th>\n",
       "      <td>2011-01-20 03:00:00</td>\n",
       "      <td>1</td>\n",
       "      <td>0</td>\n",
       "      <td>1</td>\n",
       "      <td>1</td>\n",
       "      <td>10.66</td>\n",
       "      <td>12.880</td>\n",
       "      <td>56</td>\n",
       "      <td>11.0014</td>\n",
       "      <td>2011-01-20</td>\n",
       "      <td>20</td>\n",
       "      <td>03</td>\n",
       "      <td>2011</td>\n",
       "      <td>Thursday</td>\n",
       "      <td>January</td>\n",
       "    </tr>\n",
       "    <tr>\n",
       "      <th>4</th>\n",
       "      <td>2011-01-20 04:00:00</td>\n",
       "      <td>1</td>\n",
       "      <td>0</td>\n",
       "      <td>1</td>\n",
       "      <td>1</td>\n",
       "      <td>10.66</td>\n",
       "      <td>12.880</td>\n",
       "      <td>56</td>\n",
       "      <td>11.0014</td>\n",
       "      <td>2011-01-20</td>\n",
       "      <td>20</td>\n",
       "      <td>04</td>\n",
       "      <td>2011</td>\n",
       "      <td>Thursday</td>\n",
       "      <td>January</td>\n",
       "    </tr>\n",
       "  </tbody>\n",
       "</table>\n",
       "</div>"
      ],
      "text/plain": [
       "              datetime  season  holiday  workingday  weather   temp   atemp  \\\n",
       "0  2011-01-20 00:00:00       1        0           1        1  10.66  11.365   \n",
       "1  2011-01-20 01:00:00       1        0           1        1  10.66  13.635   \n",
       "2  2011-01-20 02:00:00       1        0           1        1  10.66  13.635   \n",
       "3  2011-01-20 03:00:00       1        0           1        1  10.66  12.880   \n",
       "4  2011-01-20 04:00:00       1        0           1        1  10.66  12.880   \n",
       "\n",
       "   humidity  windspeed        date day hour  year   weekday    month  \n",
       "0        56    26.0027  2011-01-20  20   00  2011  Thursday  January  \n",
       "1        56     0.0000  2011-01-20  20   01  2011  Thursday  January  \n",
       "2        56     0.0000  2011-01-20  20   02  2011  Thursday  January  \n",
       "3        56    11.0014  2011-01-20  20   03  2011  Thursday  January  \n",
       "4        56    11.0014  2011-01-20  20   04  2011  Thursday  January  "
      ]
     },
     "execution_count": 15,
     "metadata": {},
     "output_type": "execute_result"
    }
   ],
   "source": [
    "Test_data.head()"
   ]
  },
  {
   "cell_type": "code",
   "execution_count": 16,
   "id": "70b98808",
   "metadata": {},
   "outputs": [
    {
     "name": "stdout",
     "output_type": "stream",
     "text": [
      "Unique value of = datetime [[10886]]\n",
      "['2011-01-01 00:00:00' '2011-01-01 01:00:00' '2011-01-01 02:00:00' ...\n",
      " '2012-12-19 21:00:00' '2012-12-19 22:00:00' '2012-12-19 23:00:00']\n",
      "\n",
      "Unique value of = season [[4]]\n",
      "[1 2 3 4]\n",
      "\n",
      "Unique value of = holiday [[2]]\n",
      "[0 1]\n",
      "\n",
      "Unique value of = workingday [[2]]\n",
      "[0 1]\n",
      "\n",
      "Unique value of = weather [[4]]\n",
      "[1 2 3 4]\n",
      "\n",
      "Unique value of = temp [[49]]\n",
      "[ 9.84  9.02  8.2  13.12 15.58 14.76 17.22 18.86 18.04 16.4  13.94 12.3\n",
      " 10.66  6.56  5.74  7.38  4.92 11.48  4.1   3.28  2.46 21.32 22.96 23.78\n",
      " 24.6  19.68 22.14 20.5  27.06 26.24 25.42 27.88 28.7  30.34 31.16 29.52\n",
      " 33.62 35.26 36.9  32.8  31.98 34.44 36.08 37.72 38.54  1.64  0.82 39.36\n",
      " 41.  ]\n",
      "\n",
      "Unique value of = atemp [[60]]\n",
      "[14.395 13.635 12.88  17.425 19.695 16.665 21.21  22.725 21.97  20.455\n",
      " 11.365 10.605  9.85   8.335  6.82   5.305  6.06   9.09  12.12   7.575\n",
      " 15.91   3.03   3.79   4.545 15.15  18.18  25.    26.515 27.275 29.545\n",
      " 23.485 25.76  31.06  30.305 24.24  18.94  31.82  32.575 33.335 28.79\n",
      " 34.85  35.605 37.12  40.15  41.665 40.91  39.395 34.09  28.03  36.365\n",
      " 37.88  42.425 43.94  38.635  1.515  0.76   2.275 43.18  44.695 45.455]\n",
      "\n",
      "Unique value of = humidity [[89]]\n",
      "[ 81  80  75  86  76  77  72  82  88  87  94 100  71  66  57  46  42  39\n",
      "  44  47  50  43  40  35  30  32  64  69  55  59  63  68  74  51  56  52\n",
      "  49  48  37  33  28  38  36  93  29  53  34  54  41  45  92  62  58  61\n",
      "  60  65  70  27  25  26  31  73  21  24  23  22  19  15  67  10   8  12\n",
      "  14  13  17  16  18  20  85   0  83  84  78  79  89  97  90  96  91]\n",
      "\n",
      "Unique value of = windspeed [[28]]\n",
      "[ 0.      6.0032 16.9979 19.0012 19.9995 12.998  15.0013  8.9981 11.0014\n",
      " 22.0028 30.0026 23.9994 27.9993 26.0027  7.0015 32.9975 36.9974 31.0009\n",
      " 35.0008 39.0007 43.9989 40.9973 51.9987 46.0022 50.0021 43.0006 56.9969\n",
      " 47.9988]\n",
      "\n",
      "Unique value of = casual [[309]]\n",
      "[  3   8   5   0   2   1  12  26  29  47  35  40  41  15   9   6  11   4\n",
      "   7  16  20  19  10  13  14  18  17  21  33  23  22  28  48  52  42  24\n",
      "  30  27  32  58  62  51  25  31  59  45  73  55  68  34  38 102  84  39\n",
      "  36  43  46  60  80  83  74  37  70  81 100  99  54  88  97 144 149 124\n",
      "  98  50  72  57  71  67  95  90 126 174 168 170 175 138  92  56 111  89\n",
      "  69 139 166 219 240 147 148  78  53  63  79 114  94  85 128  93 121 156\n",
      " 135 103  44  49  64  91 119 167 181 179 161 143  75  66 109 123 113  65\n",
      "  86  82 132 129 196 142 122 106  61 107 120 195 183 206 158 137  76 115\n",
      " 150 188 193 180 127 154 108  96 110 112 169 131 176 134 162 153 210 118\n",
      " 141 146 159 178 177 136 215 198 248 225 194 237 242 235 224 236 222  77\n",
      "  87 101 145 182 171 160 133 105 104 187 221 201 205 234 185 164 200 130\n",
      " 155 116 125 204 186 214 245 218 217 152 191 256 251 262 189 212 272 223\n",
      " 208 165 229 151 117 199 140 226 286 352 357 367 291 233 190 283 295 232\n",
      " 173 184 172 320 355 326 321 354 299 227 254 260 207 274 308 288 311 253\n",
      " 197 163 275 298 282 266 220 241 230 157 293 257 269 255 228 276 332 361\n",
      " 356 331 279 203 250 259 297 265 267 192 239 238 213 264 244 243 246 289\n",
      " 287 209 263 249 247 284 327 325 312 350 258 362 310 317 268 202 294 280\n",
      " 216 292 304]\n",
      "\n",
      "Unique value of = registered [[731]]\n",
      "[ 13  32  27  10   1   0   2   7   6  24  30  55  47  71  70  52  26  31\n",
      "  25  17  16   8   4  19  46  54  73  64  67  58  43  29  20   9   5   3\n",
      "  63 153  81  33  41  48  53  66 146 148 102  49  11  36  92 177  98  37\n",
      "  50  79  68 202 179 110  34  87 192 109  74  65  85 186 166 127  82  40\n",
      "  18  95 216 116  42  57  78  59 163 158  51  76 190 125 178  39  14  15\n",
      "  56  60  90  83  69  28  35  22  12  77  44  38  75 184 174 154  97 214\n",
      "  45  72 130  94 139 135 197 137 141 156 117 155 134  89  80 108  61 124\n",
      " 132 196 107 114 172 165 105 119 183 175  88  62  86 170 145 217  91 195\n",
      " 152  21 126 115 223 207 123 236 128 151 100 198 157 168  84  99 173 121\n",
      " 159  93  23 212 111 193 103 113 122 106  96 249 218 194 213 191 142 224\n",
      " 244 143 267 256 211 161 131 246 118 164 275 204 230 243 112 238 144 185\n",
      " 101 222 138 206 104 200 129 247 140 209 136 176 120 229 210 133 259 147\n",
      " 227 150 282 162 265 260 189 237 245 205 308 283 248 303 291 280 208 286\n",
      " 352 290 262 203 284 293 160 182 316 338 279 187 277 362 321 331 372 377\n",
      " 350 220 472 450 268 435 169 225 464 485 323 388 367 266 255 415 233 467\n",
      " 456 305 171 470 385 253 215 240 235 263 221 351 539 458 339 301 397 271\n",
      " 532 480 365 241 421 242 234 341 394 540 463 361 429 359 180 188 261 254\n",
      " 366 181 398 272 167 149 325 521 426 298 428 487 431 288 239 453 454 345\n",
      " 417 434 278 285 442 484 451 252 471 488 270 258 264 281 410 516 500 343\n",
      " 311 432 475 479 355 329 199 400 414 423 232 219 302 529 510 348 346 441\n",
      " 473 335 445 555 527 273 364 299 269 257 342 324 226 391 466 297 517 486\n",
      " 489 492 228 289 455 382 380 295 251 418 412 340 433 231 333 514 483 276\n",
      " 478 287 381 334 347 320 493 491 369 201 408 378 443 460 465 313 513 292\n",
      " 497 376 326 413 328 525 296 452 506 393 368 337 567 462 349 319 300 515\n",
      " 373 399 507 396 512 503 386 427 312 384 530 310 536 437 505 371 375 534\n",
      " 469 474 553 402 274 523 448 409 387 438 407 250 459 425 422 379 392 430\n",
      " 401 306 370 449 363 389 374 436 356 317 446 294 508 315 522 494 327 495\n",
      " 404 447 504 318 579 551 498 533 332 554 509 573 545 395 440 547 557 623\n",
      " 571 614 638 628 642 647 602 634 648 353 322 357 314 563 615 681 601 543\n",
      " 577 354 661 653 304 645 646 419 610 677 618 595 565 586 670 656 626 581\n",
      " 546 604 596 383 621 564 309 360 330 549 589 461 631 673 358 651 663 538\n",
      " 616 662 344 640 659 770 608 617 584 307 667 605 641 594 629 603 518 665\n",
      " 769 749 499 719 734 696 688 570 675 405 411 643 733 390 680 764 679 531\n",
      " 637 652 778 703 537 576 613 715 726 598 625 444 672 782 548 682 750 716\n",
      " 609 698 572 669 633 725 704 658 620 542 575 511 741 790 644 740 735 560\n",
      " 739 439 660 697 336 619 712 624 580 678 684 468 649 786 718 775 636 578\n",
      " 746 743 481 664 711 689 751 745 424 699 552 709 591 757 768 767 723 558\n",
      " 561 403 502 692 780 622 761 690 744 857 562 702 802 727 811 886 406 787\n",
      " 496 708 758 812 807 791 639 781 833 756 544 789 742 655 416 806 773 737\n",
      " 706 566 713 800 839 779 766 794 803 788 720 668 490 568 597 477 583 501\n",
      " 556 593 420 541 694 650 559 666 700 693 582]\n",
      "\n",
      "Unique value of = count [[822]]\n",
      "[ 16  40  32  13   1   2   3   8  14  36  56  84  94 106 110  93  67  35\n",
      "  37  34  28  39  17   9   6  20  53  70  75  59  74  76  65  30  22  31\n",
      "   5  64 154  88  44  51  61  77  72 157  52  12   4 179 100  42  57  78\n",
      "  97  63  83 212 182 112  54  48  11  33 195 115  46  79  71  62  89 190\n",
      " 169 132  43  19  95 219 122  45  86 172 163  69  23   7 210 134  73  50\n",
      "  87 187 123  15  25  98 102  55  10  49  82  92  41  38 188  47 178 155\n",
      "  24  18  27  99 217 130 136  29 128  81  68 139 137 202  60 162 144 158\n",
      " 117  90 159 101 118 129  26 104  91 113 105  21  80 125 133 197 109 161\n",
      " 135 116 176 168 108 103 175 147  96 220 127 205 174 121 230  66 114 216\n",
      " 243 152 199  58 166 170 165 160 140 211 120 145 256 126 223  85 206 124\n",
      " 255 222 285 146 274 272 185 191 232 327 224 107 119 196 171 214 242 148\n",
      " 268 201 150 111 167 228 198 204 164 233 257 151 248 235 141 249 194 259\n",
      " 156 153 244 213 181 221 250 304 241 271 282 225 253 237 299 142 313 310\n",
      " 207 138 280 173 332 331 149 267 301 312 278 281 184 215 367 349 292 303\n",
      " 339 143 189 366 386 273 325 356 314 343 333 226 203 177 263 297 288 236\n",
      " 240 131 452 383 284 291 309 321 193 337 388 300 200 180 209 354 361 306\n",
      " 277 428 362 286 351 192 411 421 276 264 238 266 371 269 537 518 218 265\n",
      " 459 186 517 544 365 290 410 396 296 440 533 520 258 450 246 260 344 553\n",
      " 470 298 347 373 436 378 342 289 340 382 390 358 385 239 374 598 524 384\n",
      " 425 611 550 434 318 442 401 234 594 527 364 387 491 398 270 279 294 295\n",
      " 322 456 437 392 231 394 453 308 604 480 283 565 489 487 183 302 547 513\n",
      " 454 486 467 572 525 379 502 558 564 391 293 247 317 369 420 451 404 341\n",
      " 251 335 417 363 357 438 579 556 407 336 334 477 539 551 424 346 353 481\n",
      " 506 432 409 466 326 254 463 380 275 311 315 360 350 252 328 476 227 601\n",
      " 586 423 330 569 538 370 498 638 607 416 261 355 552 208 468 449 381 377\n",
      " 397 492 427 461 422 305 375 376 414 447 408 418 457 545 496 368 245 596\n",
      " 563 443 562 229 316 402 287 372 514 472 511 488 419 595 578 400 348 587\n",
      " 497 433 475 406 430 324 262 323 412 530 543 413 435 555 523 441 529 532\n",
      " 585 399 584 559 307 582 571 426 516 465 329 483 600 570 628 531 455 389\n",
      " 505 359 431 460 590 429 599 338 566 482 568 540 495 345 591 593 446 485\n",
      " 393 500 473 352 320 479 444 462 405 620 499 625 395 528 319 519 445 512\n",
      " 471 508 526 509 484 448 515 549 501 612 597 464 644 712 676 734 662 782\n",
      " 749 623 713 746 651 686 690 679 685 648 560 503 521 554 541 721 801 561\n",
      " 573 589 729 618 494 757 800 684 744 759 822 698 490 536 655 643 626 615\n",
      " 567 617 632 646 692 704 624 656 610 738 671 678 660 658 635 681 616 522\n",
      " 673 781 775 576 677 748 776 557 743 666 813 504 627 706 641 575 639 769\n",
      " 680 546 717 710 458 622 705 630 732 770 439 779 659 602 478 733 650 873\n",
      " 846 474 634 852 868 745 812 669 642 730 672 645 694 493 668 647 702 665\n",
      " 834 850 790 415 724 869 700 793 723 534 831 613 653 857 719 867 823 403\n",
      " 693 603 583 542 614 580 811 795 747 581 722 689 849 872 631 649 819 674\n",
      " 830 814 633 825 629 835 667 755 794 661 772 657 771 777 837 891 652 739\n",
      " 865 767 741 469 605 858 843 640 737 862 810 577 818 854 682 851 848 897\n",
      " 832 791 654 856 839 725 863 808 792 696 701 871 968 750 970 877 925 977\n",
      " 758 884 766 894 715 783 683 842 774 797 886 892 784 687 809 917 901 887\n",
      " 785 900 761 806 507 948 844 798 827 670 637 619 592 943 838 817 888 890\n",
      " 788 588 606 608 691 711 663 731 708 609 688 636]\n",
      "\n",
      "Unique value of = date [[456]]\n",
      "['2011-01-01' '2011-01-02' '2011-01-03' '2011-01-04' '2011-01-05'\n",
      " '2011-01-06' '2011-01-07' '2011-01-08' '2011-01-09' '2011-01-10'\n",
      " '2011-01-11' '2011-01-12' '2011-01-13' '2011-01-14' '2011-01-15'\n",
      " '2011-01-16' '2011-01-17' '2011-01-18' '2011-01-19' '2011-02-01'\n",
      " '2011-02-02' '2011-02-03' '2011-02-04' '2011-02-05' '2011-02-06'\n",
      " '2011-02-07' '2011-02-08' '2011-02-09' '2011-02-10' '2011-02-11'\n",
      " '2011-02-12' '2011-02-13' '2011-02-14' '2011-02-15' '2011-02-16'\n",
      " '2011-02-17' '2011-02-18' '2011-02-19' '2011-03-01' '2011-03-02'\n",
      " '2011-03-03' '2011-03-04' '2011-03-05' '2011-03-06' '2011-03-07'\n",
      " '2011-03-08' '2011-03-09' '2011-03-10' '2011-03-11' '2011-03-12'\n",
      " '2011-03-13' '2011-03-14' '2011-03-15' '2011-03-16' '2011-03-17'\n",
      " '2011-03-18' '2011-03-19' '2011-04-01' '2011-04-02' '2011-04-03'\n",
      " '2011-04-04' '2011-04-05' '2011-04-06' '2011-04-07' '2011-04-08'\n",
      " '2011-04-09' '2011-04-10' '2011-04-11' '2011-04-12' '2011-04-13'\n",
      " '2011-04-14' '2011-04-15' '2011-04-16' '2011-04-17' '2011-04-18'\n",
      " '2011-04-19' '2011-05-01' '2011-05-02' '2011-05-03' '2011-05-04'\n",
      " '2011-05-05' '2011-05-06' '2011-05-07' '2011-05-08' '2011-05-09'\n",
      " '2011-05-10' '2011-05-11' '2011-05-12' '2011-05-13' '2011-05-14'\n",
      " '2011-05-15' '2011-05-16' '2011-05-17' '2011-05-18' '2011-05-19'\n",
      " '2011-06-01' '2011-06-02' '2011-06-03' '2011-06-04' '2011-06-05'\n",
      " '2011-06-06' '2011-06-07' '2011-06-08' '2011-06-09' '2011-06-10'\n",
      " '2011-06-11' '2011-06-12' '2011-06-13' '2011-06-14' '2011-06-15'\n",
      " '2011-06-16' '2011-06-17' '2011-06-18' '2011-06-19' '2011-07-01'\n",
      " '2011-07-02' '2011-07-03' '2011-07-04' '2011-07-05' '2011-07-06'\n",
      " '2011-07-07' '2011-07-08' '2011-07-09' '2011-07-10' '2011-07-11'\n",
      " '2011-07-12' '2011-07-13' '2011-07-14' '2011-07-15' '2011-07-16'\n",
      " '2011-07-17' '2011-07-18' '2011-07-19' '2011-08-01' '2011-08-02'\n",
      " '2011-08-03' '2011-08-04' '2011-08-05' '2011-08-06' '2011-08-07'\n",
      " '2011-08-08' '2011-08-09' '2011-08-10' '2011-08-11' '2011-08-12'\n",
      " '2011-08-13' '2011-08-14' '2011-08-15' '2011-08-16' '2011-08-17'\n",
      " '2011-08-18' '2011-08-19' '2011-09-01' '2011-09-02' '2011-09-03'\n",
      " '2011-09-04' '2011-09-05' '2011-09-06' '2011-09-07' '2011-09-08'\n",
      " '2011-09-09' '2011-09-10' '2011-09-11' '2011-09-12' '2011-09-13'\n",
      " '2011-09-14' '2011-09-15' '2011-09-16' '2011-09-17' '2011-09-18'\n",
      " '2011-09-19' '2011-10-01' '2011-10-02' '2011-10-03' '2011-10-04'\n",
      " '2011-10-05' '2011-10-06' '2011-10-07' '2011-10-08' '2011-10-09'\n",
      " '2011-10-10' '2011-10-11' '2011-10-12' '2011-10-13' '2011-10-14'\n",
      " '2011-10-15' '2011-10-16' '2011-10-17' '2011-10-18' '2011-10-19'\n",
      " '2011-11-01' '2011-11-02' '2011-11-03' '2011-11-04' '2011-11-05'\n",
      " '2011-11-06' '2011-11-07' '2011-11-08' '2011-11-09' '2011-11-10'\n",
      " '2011-11-11' '2011-11-12' '2011-11-13' '2011-11-14' '2011-11-15'\n",
      " '2011-11-16' '2011-11-17' '2011-11-18' '2011-11-19' '2011-12-01'\n",
      " '2011-12-02' '2011-12-03' '2011-12-04' '2011-12-05' '2011-12-06'\n",
      " '2011-12-07' '2011-12-08' '2011-12-09' '2011-12-10' '2011-12-11'\n",
      " '2011-12-12' '2011-12-13' '2011-12-14' '2011-12-15' '2011-12-16'\n",
      " '2011-12-17' '2011-12-18' '2011-12-19' '2012-01-01' '2012-01-02'\n",
      " '2012-01-03' '2012-01-04' '2012-01-05' '2012-01-06' '2012-01-07'\n",
      " '2012-01-08' '2012-01-09' '2012-01-10' '2012-01-11' '2012-01-12'\n",
      " '2012-01-13' '2012-01-14' '2012-01-15' '2012-01-16' '2012-01-17'\n",
      " '2012-01-18' '2012-01-19' '2012-02-01' '2012-02-02' '2012-02-03'\n",
      " '2012-02-04' '2012-02-05' '2012-02-06' '2012-02-07' '2012-02-08'\n",
      " '2012-02-09' '2012-02-10' '2012-02-11' '2012-02-12' '2012-02-13'\n",
      " '2012-02-14' '2012-02-15' '2012-02-16' '2012-02-17' '2012-02-18'\n",
      " '2012-02-19' '2012-03-01' '2012-03-02' '2012-03-03' '2012-03-04'\n",
      " '2012-03-05' '2012-03-06' '2012-03-07' '2012-03-08' '2012-03-09'\n",
      " '2012-03-10' '2012-03-11' '2012-03-12' '2012-03-13' '2012-03-14'\n",
      " '2012-03-15' '2012-03-16' '2012-03-17' '2012-03-18' '2012-03-19'\n",
      " '2012-04-01' '2012-04-02' '2012-04-03' '2012-04-04' '2012-04-05'\n",
      " '2012-04-06' '2012-04-07' '2012-04-08' '2012-04-09' '2012-04-10'\n",
      " '2012-04-11' '2012-04-12' '2012-04-13' '2012-04-14' '2012-04-15'\n",
      " '2012-04-16' '2012-04-17' '2012-04-18' '2012-04-19' '2012-05-01'\n",
      " '2012-05-02' '2012-05-03' '2012-05-04' '2012-05-05' '2012-05-06'\n",
      " '2012-05-07' '2012-05-08' '2012-05-09' '2012-05-10' '2012-05-11'\n",
      " '2012-05-12' '2012-05-13' '2012-05-14' '2012-05-15' '2012-05-16'\n",
      " '2012-05-17' '2012-05-18' '2012-05-19' '2012-06-01' '2012-06-02'\n",
      " '2012-06-03' '2012-06-04' '2012-06-05' '2012-06-06' '2012-06-07'\n",
      " '2012-06-08' '2012-06-09' '2012-06-10' '2012-06-11' '2012-06-12'\n",
      " '2012-06-13' '2012-06-14' '2012-06-15' '2012-06-16' '2012-06-17'\n",
      " '2012-06-18' '2012-06-19' '2012-07-01' '2012-07-02' '2012-07-03'\n",
      " '2012-07-04' '2012-07-05' '2012-07-06' '2012-07-07' '2012-07-08'\n",
      " '2012-07-09' '2012-07-10' '2012-07-11' '2012-07-12' '2012-07-13'\n",
      " '2012-07-14' '2012-07-15' '2012-07-16' '2012-07-17' '2012-07-18'\n",
      " '2012-07-19' '2012-08-01' '2012-08-02' '2012-08-03' '2012-08-04'\n",
      " '2012-08-05' '2012-08-06' '2012-08-07' '2012-08-08' '2012-08-09'\n",
      " '2012-08-10' '2012-08-11' '2012-08-12' '2012-08-13' '2012-08-14'\n",
      " '2012-08-15' '2012-08-16' '2012-08-17' '2012-08-18' '2012-08-19'\n",
      " '2012-09-01' '2012-09-02' '2012-09-03' '2012-09-04' '2012-09-05'\n",
      " '2012-09-06' '2012-09-07' '2012-09-08' '2012-09-09' '2012-09-10'\n",
      " '2012-09-11' '2012-09-12' '2012-09-13' '2012-09-14' '2012-09-15'\n",
      " '2012-09-16' '2012-09-17' '2012-09-18' '2012-09-19' '2012-10-01'\n",
      " '2012-10-02' '2012-10-03' '2012-10-04' '2012-10-05' '2012-10-06'\n",
      " '2012-10-07' '2012-10-08' '2012-10-09' '2012-10-10' '2012-10-11'\n",
      " '2012-10-12' '2012-10-13' '2012-10-14' '2012-10-15' '2012-10-16'\n",
      " '2012-10-17' '2012-10-18' '2012-10-19' '2012-11-01' '2012-11-02'\n",
      " '2012-11-03' '2012-11-04' '2012-11-05' '2012-11-06' '2012-11-07'\n",
      " '2012-11-08' '2012-11-09' '2012-11-10' '2012-11-11' '2012-11-12'\n",
      " '2012-11-13' '2012-11-14' '2012-11-15' '2012-11-16' '2012-11-17'\n",
      " '2012-11-18' '2012-11-19' '2012-12-01' '2012-12-02' '2012-12-03'\n",
      " '2012-12-04' '2012-12-05' '2012-12-06' '2012-12-07' '2012-12-08'\n",
      " '2012-12-09' '2012-12-10' '2012-12-11' '2012-12-12' '2012-12-13'\n",
      " '2012-12-14' '2012-12-15' '2012-12-16' '2012-12-17' '2012-12-18'\n",
      " '2012-12-19']\n",
      "\n",
      "Unique value of = day [[19]]\n",
      "['01' '02' '03' '04' '05' '06' '07' '08' '09' '10' '11' '12' '13' '14'\n",
      " '15' '16' '17' '18' '19']\n",
      "\n",
      "Unique value of = hour [[24]]\n",
      "['00' '01' '02' '03' '04' '05' '06' '07' '08' '09' '10' '11' '12' '13'\n",
      " '14' '15' '16' '17' '18' '19' '20' '21' '22' '23']\n",
      "\n",
      "Unique value of = year [[2]]\n",
      "['2011' '2012']\n",
      "\n",
      "Unique value of = weekday [[7]]\n",
      "['Saturday' 'Sunday' 'Monday' 'Tuesday' 'Wednesday' 'Thursday' 'Friday']\n",
      "\n",
      "Unique value of = month [[12]]\n",
      "['January' 'February' 'March' 'April' 'May' 'June' 'July' 'August'\n",
      " 'September' 'October' 'November' 'December']\n",
      "\n"
     ]
    }
   ],
   "source": [
    "# Number of unique values in each columns and unique values in each columns.\n",
    "\n",
    "for i in Train_data.columns:\n",
    "    print(\"Unique value of = {} [[{}]]\\n{}\\n\".format(i, len(Train_data[i].unique()), Train_data[i].unique()))"
   ]
  },
  {
   "cell_type": "markdown",
   "id": "2eaf7736",
   "metadata": {},
   "source": [
    "### Data Visualization"
   ]
  },
  {
   "cell_type": "markdown",
   "id": "105e387c",
   "metadata": {},
   "source": [
    "**Correlation Matrix allows to have a global view of the more or less strong relationship between several variables LINEARLY.**"
   ]
  },
  {
   "cell_type": "code",
   "execution_count": 17,
   "id": "7b4998a8",
   "metadata": {},
   "outputs": [
    {
     "data": {
      "image/png": "[encoded data removed]",
      "text/plain": [
       "<Figure size 1080x1080 with 2 Axes>"
      ]
     },
     "metadata": {
      "needs_background": "light"
     },
     "output_type": "display_data"
    }
   ],
   "source": [
    "plt.figure(figsize=(15,15))    \n",
    "ax = sns.heatmap(Train_data.corr(), cmap = \"coolwarm\", annot=True, linewidth=1)\n",
    "bottom, top = ax.get_ylim()"
   ]
  },
  {
   "cell_type": "markdown",
   "id": "db426c77",
   "metadata": {},
   "source": [
    "**INFERENCES FROM THE ABOVE HEATMAP --**\n",
    "\n",
    "* self realtion i.e. of a feature to itself is equal to 1 as expected.\n",
    "\n",
    "* temp and atemp are highly related as expected.\n",
    "\n",
    "* humidity is negatively correlated to count as expected as the weather is humid people will not like to travel on a bike.\n",
    "\n",
    "* Also note that temp(or atemp) effects the count.\n",
    "\n",
    "* registered/casual and count are highly related which indicates that most of the bikes that are rented are registered.\n",
    "\n",
    "* similarly we can draw some more inferences like weather and humidity and so on... "
   ]
  },
  {
   "cell_type": "code",
   "execution_count": 18,
   "id": "b4cb9337",
   "metadata": {},
   "outputs": [
    {
     "name": "stdout",
     "output_type": "stream",
     "text": [
      "12    456\n",
      "13    456\n",
      "22    456\n",
      "21    456\n",
      "20    456\n",
      "19    456\n",
      "18    456\n",
      "17    456\n",
      "16    456\n",
      "15    456\n",
      "14    456\n",
      "23    456\n",
      "11    455\n",
      "10    455\n",
      "09    455\n",
      "08    455\n",
      "07    455\n",
      "06    455\n",
      "00    455\n",
      "01    454\n",
      "05    452\n",
      "02    448\n",
      "04    442\n",
      "03    433\n",
      "Name: hour, dtype: int64\n"
     ]
    },
    {
     "data": {
      "image/png": "[encoded data removed]",
      "text/plain": [
       "<Figure size 432x288 with 1 Axes>"
      ]
     },
     "metadata": {},
     "output_type": "display_data"
    },
    {
     "data": {
      "image/png": "[encoded data removed]",
      "text/plain": [
       "<Figure size 432x288 with 1 Axes>"
      ]
     },
     "metadata": {
      "needs_background": "light"
     },
     "output_type": "display_data"
    }
   ],
   "source": [
    "print(Train_data.hour.value_counts())\n",
    "values=Train_data['hour'].value_counts().values\n",
    "label=['00', '01', '02', '03', '04', '05','06', '07', '08', '09', '10', '11','12','13','14', '15','16','17','18','19', '20', '21', '22', '23']\n",
    "fig,ax1=plt.subplots()\n",
    "ax1.pie(values,labels=label,shadow=True,startangle=200,autopct='%1.1f%%')\n",
    "plt.show()\n",
    "\n",
    "sns.barplot(x='hour',y='count',data=Train_data,estimator = np.sum)\n",
    "label=['00', '01', '02', '03', '04', '05','06', '07', '08', '09', '10', '11','12','13','14', '15','16','17','18','19', '20', '21', '22', '23']\n",
    "plt.show()"
   ]
  },
  {
   "cell_type": "markdown",
   "id": "c9ae90c7",
   "metadata": {},
   "source": [
    "**Note that the highest demand is in hours from say 7-10 and the from 15-19. This is because in most of the cities this is the peak office time and so more people would be renting bikes. This is just one of the plausible reason.**"
   ]
  },
  {
   "cell_type": "code",
   "execution_count": 19,
   "id": "2fe4b1ea",
   "metadata": {},
   "outputs": [
    {
     "name": "stdout",
     "output_type": "stream",
     "text": [
      "4    2734\n",
      "2    2733\n",
      "3    2733\n",
      "1    2686\n",
      "Name: season, dtype: int64\n"
     ]
    },
    {
     "data": {
      "image/png": "[encoded data removed]",
      "text/plain": [
       "<Figure size 432x288 with 1 Axes>"
      ]
     },
     "metadata": {},
     "output_type": "display_data"
    },
    {
     "data": {
      "image/png": "[encoded data removed]",
      "text/plain": [
       "<Figure size 432x288 with 1 Axes>"
      ]
     },
     "metadata": {
      "needs_background": "light"
     },
     "output_type": "display_data"
    }
   ],
   "source": [
    "print(Train_data.season.value_counts())\n",
    "values=Train_data['season'].value_counts().values\n",
    "label=[ \"Spring\", \"Summer\", \"Fall\", \"Winter\"]\n",
    "fig,ax1=plt.subplots()\n",
    "ax1.pie(values,labels=label,shadow=True,startangle=90,autopct='%1.1f%%')\n",
    "plt.show()\n",
    "\n",
    "sns.barplot(x='season',y='count',data=Train_data,estimator = np.sum)\n",
    "label=[ \"Spring\", \"Summer\", \"Fall\", \"Winter\"]\n",
    "plt.show()"
   ]
  },
  {
   "cell_type": "markdown",
   "id": "4b34c41c",
   "metadata": {},
   "source": [
    "* **There are 4 type of season { \"Spring\", \"Summer\", \"Fall\", \"Winter\"}.**\n",
    "* **Season 'Spring' has lowest demand of bike out of all the 4 types of Season.**"
   ]
  },
  {
   "cell_type": "code",
   "execution_count": 20,
   "id": "e61f99e6",
   "metadata": {},
   "outputs": [
    {
     "name": "stdout",
     "output_type": "stream",
     "text": [
      "0    10575\n",
      "1      311\n",
      "Name: holiday, dtype: int64\n"
     ]
    },
    {
     "data": {
      "image/png": "[encoded data removed]",
      "text/plain": [
       "<Figure size 432x288 with 1 Axes>"
      ]
     },
     "metadata": {},
     "output_type": "display_data"
    },
    {
     "data": {
      "image/png": "[encoded data removed]",
      "text/plain": [
       "<Figure size 432x288 with 1 Axes>"
      ]
     },
     "metadata": {
      "needs_background": "light"
     },
     "output_type": "display_data"
    }
   ],
   "source": [
    "print(Train_data.holiday.value_counts())\n",
    "values=Train_data['holiday'].value_counts().values\n",
    "label=[0,1]\n",
    "fig,ax1=plt.subplots()\n",
    "ax1.pie(values,labels=label,shadow=True,startangle=90,autopct='%1.1f%%')\n",
    "plt.show()\n",
    "\n",
    "sns.barplot(x='holiday',y='count',data=Train_data, estimator = np.sum)\n",
    "label=[0,1]\n",
    "plt.show()"
   ]
  },
  {
   "cell_type": "markdown",
   "id": "86635050",
   "metadata": {},
   "source": [
    "**Majority of data is for non holiday days.**"
   ]
  },
  {
   "cell_type": "code",
   "execution_count": 21,
   "id": "de394e27",
   "metadata": {},
   "outputs": [
    {
     "name": "stdout",
     "output_type": "stream",
     "text": [
      "1    7192\n",
      "2    2834\n",
      "3     859\n",
      "4       1\n",
      "Name: weather, dtype: int64\n"
     ]
    },
    {
     "data": {
      "image/png": "[encoded data removed]",
      "text/plain": [
       "<Figure size 432x288 with 1 Axes>"
      ]
     },
     "metadata": {},
     "output_type": "display_data"
    },
    {
     "data": {
      "image/png": "[encoded data removed]",
      "text/plain": [
       "<Figure size 432x288 with 1 Axes>"
      ]
     },
     "metadata": {
      "needs_background": "light"
     },
     "output_type": "display_data"
    }
   ],
   "source": [
    "print(Train_data.weather.value_counts())\n",
    "values=Train_data['weather'].value_counts().values\n",
    "label=[\" Clear + Few clouds + Partly cloudy + Partly cloudy\", \" Mist + Cloudy, Mist + Broken clouds, Mist + Few clouds, Mist \",  \" Light Snow, Light Rain + Thunderstorm + Scattered clouds, Light Rain + Scattered clouds\", \" Heavy Rain + Ice Pallets + Thunderstorm + Mist, Snow + Fog \"]\n",
    "fig,ax1=plt.subplots()\n",
    "ax1.pie(values,labels=label,shadow=True,startangle=120,autopct='%1.1f%%')\n",
    "plt.show()\n",
    "\n",
    "sns.barplot(x='weather',y='count',data=Train_data,estimator = np.sum)\n",
    "label=[\" Clear + Few clouds + Partly cloudy + Partly cloudy\", \n",
    "       \" Mist + Cloudy, Mist + Broken clouds, Mist + Few clouds, Mist \",\n",
    "       \" Light Snow, Light Rain + Thunderstorm + Scattered clouds, Light Rain + Scattered clouds\",\n",
    "       \" Heavy Rain + Ice Pallets + Thunderstorm + Mist, Snow + Fog \"]\n",
    "\n",
    "plt.show()"
   ]
  },
  {
   "cell_type": "markdown",
   "id": "c5e22aa9",
   "metadata": {},
   "source": [
    "* **There are 4 type of weather.**\n",
    "* **Weather 'Clear + Few clouds + Partly cloudy + Partly cloudy' has highest demand of bike out of all the 4 types of weather.**\n",
    "* **Weather \" Heavy Rain + Ice Pallets + Thunderstorm + Mist, Snow + Fog\" has lowest demand of bike out of all the 4 types of weather.**"
   ]
  },
  {
   "cell_type": "code",
   "execution_count": 22,
   "id": "18545817",
   "metadata": {},
   "outputs": [
    {
     "name": "stdout",
     "output_type": "stream",
     "text": [
      "Saturday     1584\n",
      "Sunday       1579\n",
      "Thursday     1553\n",
      "Monday       1551\n",
      "Wednesday    1551\n",
      "Tuesday      1539\n",
      "Friday       1529\n",
      "Name: weekday, dtype: int64\n"
     ]
    },
    {
     "data": {
      "image/png": "[encoded data removed]",
      "text/plain": [
       "<Figure size 432x288 with 1 Axes>"
      ]
     },
     "metadata": {},
     "output_type": "display_data"
    },
    {
     "data": {
      "image/png": "[encoded data removed]",
      "text/plain": [
       "<Figure size 432x288 with 1 Axes>"
      ]
     },
     "metadata": {
      "needs_background": "light"
     },
     "output_type": "display_data"
    }
   ],
   "source": [
    "print(Train_data.weekday.value_counts())\n",
    "values=Train_data['weekday'].value_counts().values\n",
    "label=['Saturday', 'Sunday', 'Monday', 'Tuesday', 'Wednesday', 'Thursday', 'Friday']\n",
    "fig,ax1=plt.subplots()\n",
    "ax1.pie(values,labels=label,shadow=True,startangle=90,autopct='%1.1f%%')\n",
    "plt.show()\n",
    "\n",
    "sns.barplot(x='weekday',y='count',data=Train_data, estimator = np.sum)\n",
    "label=['Saturday', 'Sunday', 'Monday', 'Tuesday', 'Wednesday', 'Thursday', 'Friday']\n",
    "plt.show()"
   ]
  },
  {
   "cell_type": "code",
   "execution_count": 23,
   "id": "810ee054",
   "metadata": {},
   "outputs": [
    {
     "name": "stdout",
     "output_type": "stream",
     "text": [
      "May          912\n",
      "June         912\n",
      "July         912\n",
      "August       912\n",
      "December     912\n",
      "October      911\n",
      "November     911\n",
      "April        909\n",
      "September    909\n",
      "February     901\n",
      "March        901\n",
      "January      884\n",
      "Name: month, dtype: int64\n"
     ]
    },
    {
     "data": {
      "image/png": "[encoded data removed]",
      "text/plain": [
       "<Figure size 432x288 with 1 Axes>"
      ]
     },
     "metadata": {},
     "output_type": "display_data"
    }
   ],
   "source": [
    "print(Train_data.month.value_counts())\n",
    "values=Train_data['month'].value_counts().values\n",
    "label=['January', 'February', 'March', 'April', 'May', 'June','July', 'August', 'September', 'October', 'November', 'December']\n",
    "fig,ax1=plt.subplots()\n",
    "ax1.pie(values,labels=label,shadow=True,startangle=150,autopct='%1.1f%%')\n",
    "plt.show()"
   ]
  },
  {
   "cell_type": "markdown",
   "id": "299bf57d",
   "metadata": {},
   "source": [
    "### Reduction of Dimension"
   ]
  },
  {
   "cell_type": "markdown",
   "id": "ff621690",
   "metadata": {},
   "source": [
    "*  **'Datetime' : Drop 'Datetime' column from both the data because the datetime is exracted in different columns.**\n",
    " \n",
    "*  **casual and registered : 'count' is highly positive correlated to 'casual' and 'registered'. So Drop both the columns from train data.**\n",
    " \n",
    "*  **date : Drop 'date' column from both the data because the date is exracted into day, month and year.** "
   ]
  },
  {
   "cell_type": "code",
   "execution_count": 24,
   "id": "a71fdce5",
   "metadata": {},
   "outputs": [],
   "source": [
    "Train_data  = Train_data.drop([\"datetime\", 'casual', 'registered','date' ],axis=1)"
   ]
  },
  {
   "cell_type": "code",
   "execution_count": 25,
   "id": "ff9f23d1",
   "metadata": {},
   "outputs": [
    {
     "data": {
      "text/html": [
       "<div>\n",
       "<style scoped>\n",
       "    .dataframe tbody tr th:only-of-type {\n",
       "        vertical-align: middle;\n",
       "    }\n",
       "\n",
       "    .dataframe tbody tr th {\n",
       "        vertical-align: top;\n",
       "    }\n",
       "\n",
       "    .dataframe thead th {\n",
       "        text-align: right;\n",
       "    }\n",
       "</style>\n",
       "<table border=\"1\" class=\"dataframe\">\n",
       "  <thead>\n",
       "    <tr style=\"text-align: right;\">\n",
       "      <th></th>\n",
       "      <th>season</th>\n",
       "      <th>holiday</th>\n",
       "      <th>workingday</th>\n",
       "      <th>weather</th>\n",
       "      <th>temp</th>\n",
       "      <th>atemp</th>\n",
       "      <th>humidity</th>\n",
       "      <th>windspeed</th>\n",
       "      <th>count</th>\n",
       "      <th>day</th>\n",
       "      <th>hour</th>\n",
       "      <th>year</th>\n",
       "      <th>weekday</th>\n",
       "      <th>month</th>\n",
       "    </tr>\n",
       "  </thead>\n",
       "  <tbody>\n",
       "    <tr>\n",
       "      <th>0</th>\n",
       "      <td>1</td>\n",
       "      <td>0</td>\n",
       "      <td>0</td>\n",
       "      <td>1</td>\n",
       "      <td>9.84</td>\n",
       "      <td>14.395</td>\n",
       "      <td>81</td>\n",
       "      <td>0.0</td>\n",
       "      <td>16</td>\n",
       "      <td>01</td>\n",
       "      <td>00</td>\n",
       "      <td>2011</td>\n",
       "      <td>Saturday</td>\n",
       "      <td>January</td>\n",
       "    </tr>\n",
       "    <tr>\n",
       "      <th>1</th>\n",
       "      <td>1</td>\n",
       "      <td>0</td>\n",
       "      <td>0</td>\n",
       "      <td>1</td>\n",
       "      <td>9.02</td>\n",
       "      <td>13.635</td>\n",
       "      <td>80</td>\n",
       "      <td>0.0</td>\n",
       "      <td>40</td>\n",
       "      <td>01</td>\n",
       "      <td>01</td>\n",
       "      <td>2011</td>\n",
       "      <td>Saturday</td>\n",
       "      <td>January</td>\n",
       "    </tr>\n",
       "    <tr>\n",
       "      <th>2</th>\n",
       "      <td>1</td>\n",
       "      <td>0</td>\n",
       "      <td>0</td>\n",
       "      <td>1</td>\n",
       "      <td>9.02</td>\n",
       "      <td>13.635</td>\n",
       "      <td>80</td>\n",
       "      <td>0.0</td>\n",
       "      <td>32</td>\n",
       "      <td>01</td>\n",
       "      <td>02</td>\n",
       "      <td>2011</td>\n",
       "      <td>Saturday</td>\n",
       "      <td>January</td>\n",
       "    </tr>\n",
       "    <tr>\n",
       "      <th>3</th>\n",
       "      <td>1</td>\n",
       "      <td>0</td>\n",
       "      <td>0</td>\n",
       "      <td>1</td>\n",
       "      <td>9.84</td>\n",
       "      <td>14.395</td>\n",
       "      <td>75</td>\n",
       "      <td>0.0</td>\n",
       "      <td>13</td>\n",
       "      <td>01</td>\n",
       "      <td>03</td>\n",
       "      <td>2011</td>\n",
       "      <td>Saturday</td>\n",
       "      <td>January</td>\n",
       "    </tr>\n",
       "    <tr>\n",
       "      <th>4</th>\n",
       "      <td>1</td>\n",
       "      <td>0</td>\n",
       "      <td>0</td>\n",
       "      <td>1</td>\n",
       "      <td>9.84</td>\n",
       "      <td>14.395</td>\n",
       "      <td>75</td>\n",
       "      <td>0.0</td>\n",
       "      <td>1</td>\n",
       "      <td>01</td>\n",
       "      <td>04</td>\n",
       "      <td>2011</td>\n",
       "      <td>Saturday</td>\n",
       "      <td>January</td>\n",
       "    </tr>\n",
       "  </tbody>\n",
       "</table>\n",
       "</div>"
      ],
      "text/plain": [
       "   season  holiday  workingday  weather  temp   atemp  humidity  windspeed  \\\n",
       "0       1        0           0        1  9.84  14.395        81        0.0   \n",
       "1       1        0           0        1  9.02  13.635        80        0.0   \n",
       "2       1        0           0        1  9.02  13.635        80        0.0   \n",
       "3       1        0           0        1  9.84  14.395        75        0.0   \n",
       "4       1        0           0        1  9.84  14.395        75        0.0   \n",
       "\n",
       "   count day hour  year   weekday    month  \n",
       "0     16  01   00  2011  Saturday  January  \n",
       "1     40  01   01  2011  Saturday  January  \n",
       "2     32  01   02  2011  Saturday  January  \n",
       "3     13  01   03  2011  Saturday  January  \n",
       "4      1  01   04  2011  Saturday  January  "
      ]
     },
     "execution_count": 25,
     "metadata": {},
     "output_type": "execute_result"
    }
   ],
   "source": [
    "Train_data.head()"
   ]
  },
  {
   "cell_type": "code",
   "execution_count": 26,
   "id": "258d4129",
   "metadata": {},
   "outputs": [],
   "source": [
    "Test_data  = Test_data.drop(['date'],axis=1)"
   ]
  },
  {
   "cell_type": "code",
   "execution_count": 27,
   "id": "45e4f426",
   "metadata": {},
   "outputs": [
    {
     "data": {
      "text/html": [
       "<div>\n",
       "<style scoped>\n",
       "    .dataframe tbody tr th:only-of-type {\n",
       "        vertical-align: middle;\n",
       "    }\n",
       "\n",
       "    .dataframe tbody tr th {\n",
       "        vertical-align: top;\n",
       "    }\n",
       "\n",
       "    .dataframe thead th {\n",
       "        text-align: right;\n",
       "    }\n",
       "</style>\n",
       "<table border=\"1\" class=\"dataframe\">\n",
       "  <thead>\n",
       "    <tr style=\"text-align: right;\">\n",
       "      <th></th>\n",
       "      <th>datetime</th>\n",
       "      <th>season</th>\n",
       "      <th>holiday</th>\n",
       "      <th>workingday</th>\n",
       "      <th>weather</th>\n",
       "      <th>temp</th>\n",
       "      <th>atemp</th>\n",
       "      <th>humidity</th>\n",
       "      <th>windspeed</th>\n",
       "      <th>day</th>\n",
       "      <th>hour</th>\n",
       "      <th>year</th>\n",
       "      <th>weekday</th>\n",
       "      <th>month</th>\n",
       "    </tr>\n",
       "  </thead>\n",
       "  <tbody>\n",
       "    <tr>\n",
       "      <th>0</th>\n",
       "      <td>2011-01-20 00:00:00</td>\n",
       "      <td>1</td>\n",
       "      <td>0</td>\n",
       "      <td>1</td>\n",
       "      <td>1</td>\n",
       "      <td>10.66</td>\n",
       "      <td>11.365</td>\n",
       "      <td>56</td>\n",
       "      <td>26.0027</td>\n",
       "      <td>20</td>\n",
       "      <td>00</td>\n",
       "      <td>2011</td>\n",
       "      <td>Thursday</td>\n",
       "      <td>January</td>\n",
       "    </tr>\n",
       "    <tr>\n",
       "      <th>1</th>\n",
       "      <td>2011-01-20 01:00:00</td>\n",
       "      <td>1</td>\n",
       "      <td>0</td>\n",
       "      <td>1</td>\n",
       "      <td>1</td>\n",
       "      <td>10.66</td>\n",
       "      <td>13.635</td>\n",
       "      <td>56</td>\n",
       "      <td>0.0000</td>\n",
       "      <td>20</td>\n",
       "      <td>01</td>\n",
       "      <td>2011</td>\n",
       "      <td>Thursday</td>\n",
       "      <td>January</td>\n",
       "    </tr>\n",
       "    <tr>\n",
       "      <th>2</th>\n",
       "      <td>2011-01-20 02:00:00</td>\n",
       "      <td>1</td>\n",
       "      <td>0</td>\n",
       "      <td>1</td>\n",
       "      <td>1</td>\n",
       "      <td>10.66</td>\n",
       "      <td>13.635</td>\n",
       "      <td>56</td>\n",
       "      <td>0.0000</td>\n",
       "      <td>20</td>\n",
       "      <td>02</td>\n",
       "      <td>2011</td>\n",
       "      <td>Thursday</td>\n",
       "      <td>January</td>\n",
       "    </tr>\n",
       "    <tr>\n",
       "      <th>3</th>\n",
       "      <td>2011-01-20 03:00:00</td>\n",
       "      <td>1</td>\n",
       "      <td>0</td>\n",
       "      <td>1</td>\n",
       "      <td>1</td>\n",
       "      <td>10.66</td>\n",
       "      <td>12.880</td>\n",
       "      <td>56</td>\n",
       "      <td>11.0014</td>\n",
       "      <td>20</td>\n",
       "      <td>03</td>\n",
       "      <td>2011</td>\n",
       "      <td>Thursday</td>\n",
       "      <td>January</td>\n",
       "    </tr>\n",
       "    <tr>\n",
       "      <th>4</th>\n",
       "      <td>2011-01-20 04:00:00</td>\n",
       "      <td>1</td>\n",
       "      <td>0</td>\n",
       "      <td>1</td>\n",
       "      <td>1</td>\n",
       "      <td>10.66</td>\n",
       "      <td>12.880</td>\n",
       "      <td>56</td>\n",
       "      <td>11.0014</td>\n",
       "      <td>20</td>\n",
       "      <td>04</td>\n",
       "      <td>2011</td>\n",
       "      <td>Thursday</td>\n",
       "      <td>January</td>\n",
       "    </tr>\n",
       "  </tbody>\n",
       "</table>\n",
       "</div>"
      ],
      "text/plain": [
       "              datetime  season  holiday  workingday  weather   temp   atemp  \\\n",
       "0  2011-01-20 00:00:00       1        0           1        1  10.66  11.365   \n",
       "1  2011-01-20 01:00:00       1        0           1        1  10.66  13.635   \n",
       "2  2011-01-20 02:00:00       1        0           1        1  10.66  13.635   \n",
       "3  2011-01-20 03:00:00       1        0           1        1  10.66  12.880   \n",
       "4  2011-01-20 04:00:00       1        0           1        1  10.66  12.880   \n",
       "\n",
       "   humidity  windspeed day hour  year   weekday    month  \n",
       "0        56    26.0027  20   00  2011  Thursday  January  \n",
       "1        56     0.0000  20   01  2011  Thursday  January  \n",
       "2        56     0.0000  20   02  2011  Thursday  January  \n",
       "3        56    11.0014  20   03  2011  Thursday  January  \n",
       "4        56    11.0014  20   04  2011  Thursday  January  "
      ]
     },
     "execution_count": 27,
     "metadata": {},
     "output_type": "execute_result"
    }
   ],
   "source": [
    "Test_data.head()"
   ]
  },
  {
   "cell_type": "markdown",
   "id": "e90d8412",
   "metadata": {},
   "source": [
    "### Missing Value Analysis"
   ]
  },
  {
   "cell_type": "markdown",
   "id": "f5695689",
   "metadata": {},
   "source": [
    "**Checking Missing values in Train and Test data set.**"
   ]
  },
  {
   "cell_type": "code",
   "execution_count": 28,
   "id": "a9c63432",
   "metadata": {},
   "outputs": [
    {
     "name": "stdout",
     "output_type": "stream",
     "text": [
      "season        0\n",
      "holiday       0\n",
      "workingday    0\n",
      "weather       0\n",
      "temp          0\n",
      "atemp         0\n",
      "humidity      0\n",
      "windspeed     0\n",
      "count         0\n",
      "day           0\n",
      "hour          0\n",
      "year          0\n",
      "weekday       0\n",
      "month         0\n",
      "dtype: int64\n"
     ]
    },
    {
     "data": {
      "text/plain": [
       "<AxesSubplot:>"
      ]
     },
     "execution_count": 28,
     "metadata": {},
     "output_type": "execute_result"
    },
    {
     "data": {
      "image/png": "[encoded data removed]",
      "text/plain": [
       "<Figure size 432x288 with 2 Axes>"
      ]
     },
     "metadata": {
      "needs_background": "light"
     },
     "output_type": "display_data"
    }
   ],
   "source": [
    "# Train data set\n",
    "print(Train_data.isnull().sum())\n",
    "\n",
    "# Visualizing the same using heatmap.\n",
    "sns.heatmap(Train_data.isnull(), cmap = 'YlGnBu')"
   ]
  },
  {
   "cell_type": "code",
   "execution_count": 29,
   "id": "2a6a9efd",
   "metadata": {},
   "outputs": [
    {
     "name": "stdout",
     "output_type": "stream",
     "text": [
      "datetime      0\n",
      "season        0\n",
      "holiday       0\n",
      "workingday    0\n",
      "weather       0\n",
      "temp          0\n",
      "atemp         0\n",
      "humidity      0\n",
      "windspeed     0\n",
      "day           0\n",
      "hour          0\n",
      "year          0\n",
      "weekday       0\n",
      "month         0\n",
      "dtype: int64\n"
     ]
    },
    {
     "data": {
      "text/plain": [
       "<AxesSubplot:>"
      ]
     },
     "execution_count": 29,
     "metadata": {},
     "output_type": "execute_result"
    },
    {
     "data": {
      "image/png": "[encoded data removed]",
      "text/plain": [
       "<Figure size 432x288 with 2 Axes>"
      ]
     },
     "metadata": {
      "needs_background": "light"
     },
     "output_type": "display_data"
    }
   ],
   "source": [
    "# Test data set\n",
    "print(Test_data.isnull().sum())\n",
    "\n",
    "# Visualizing the same using heatmap.\n",
    "sns.heatmap(Test_data.isnull(), cmap = 'YlGnBu')"
   ]
  },
  {
   "cell_type": "markdown",
   "id": "e4a2ad87",
   "metadata": {},
   "source": [
    "* **There are no null values present in both the dataset i.e. Train and Test data.**"
   ]
  },
  {
   "cell_type": "markdown",
   "id": "d82ae763",
   "metadata": {},
   "source": [
    "### Outlier Analysis"
   ]
  },
  {
   "cell_type": "markdown",
   "id": "7965d267",
   "metadata": {},
   "source": [
    "**Checking outliers using box plot**"
   ]
  },
  {
   "cell_type": "code",
   "execution_count": 30,
   "id": "e0d83d14",
   "metadata": {},
   "outputs": [
    {
     "data": {
      "image/png": "[encoded data removed]",
      "text/plain": [
       "<Figure size 720x720 with 1 Axes>"
      ]
     },
     "metadata": {
      "needs_background": "light"
     },
     "output_type": "display_data"
    }
   ],
   "source": [
    "sns.boxplot(data=Train_data[['temp','atemp', 'humidity', 'windspeed', 'count']])\n",
    "fig=plt.gcf()\n",
    "fig.set_size_inches(10,10)"
   ]
  },
  {
   "cell_type": "markdown",
   "id": "bcab6765",
   "metadata": {},
   "source": [
    "**Removing outliers in each of the attributes**"
   ]
  },
  {
   "cell_type": "code",
   "execution_count": 31,
   "id": "f96a56b2",
   "metadata": {},
   "outputs": [
    {
     "name": "stdout",
     "output_type": "stream",
     "text": [
      "temp\n",
      "-4.51\n",
      "44.69\n",
      "atemp\n",
      "-4.927500000000002\n",
      "52.6525\n",
      "humidity\n",
      "2.0\n",
      "122.0\n",
      "windspeed\n",
      "-7.993100000000002\n",
      "31.992500000000003\n",
      "count\n",
      "-322.5\n",
      "649.5\n"
     ]
    }
   ],
   "source": [
    "cnames = ['temp','atemp', 'humidity', 'windspeed', 'count']\n",
    "for i in cnames:\n",
    "    print(i)\n",
    "    q75, q25 = np.percentile( Train_data.loc[:,i],[75,25])\n",
    "    iqr = q75-q25\n",
    "    min = q25-(iqr*1.5)\n",
    "    max = q75+(iqr*1.5)\n",
    "    print(min)\n",
    "    print(max)\n",
    "   \n",
    "    Train_data = Train_data.drop( Train_data[ Train_data.loc[:,i] < min].index)\n",
    "    Train_data = Train_data.drop( Train_data[ Train_data.loc[:,i] > max].index)"
   ]
  },
  {
   "cell_type": "code",
   "execution_count": 32,
   "id": "16d51162",
   "metadata": {},
   "outputs": [
    {
     "data": {
      "text/plain": [
       "(10352, 14)"
      ]
     },
     "execution_count": 32,
     "metadata": {},
     "output_type": "execute_result"
    }
   ],
   "source": [
    "Train_data.shape"
   ]
  },
  {
   "cell_type": "markdown",
   "id": "651f300e",
   "metadata": {},
   "source": [
    "**Use lable encoder to transform data**"
   ]
  },
  {
   "cell_type": "code",
   "execution_count": 33,
   "id": "5a8eb2de",
   "metadata": {},
   "outputs": [],
   "source": [
    "#Train data\n",
    "Train_data['weekday']=label_encoder.fit_transform(Train_data['weekday'])\n",
    "Train_data['month']=label_encoder.fit_transform(Train_data['month'])\n",
    "Train_data['year']=label_encoder.fit_transform(Train_data['year'])"
   ]
  },
  {
   "cell_type": "code",
   "execution_count": 34,
   "id": "70c489e0",
   "metadata": {},
   "outputs": [],
   "source": [
    "#Test data\n",
    "Test_data['weekday']=label_encoder.fit_transform(Test_data['weekday'])\n",
    "Test_data['year']=label_encoder.fit_transform(Test_data['year'])\n",
    "Test_data['month']=label_encoder.fit_transform(Test_data['month'])"
   ]
  },
  {
   "cell_type": "markdown",
   "id": "2906aaed",
   "metadata": {},
   "source": [
    "### Converting data type"
   ]
  },
  {
   "cell_type": "code",
   "execution_count": 35,
   "id": "75647d63",
   "metadata": {},
   "outputs": [],
   "source": [
    "object_Variable_List = [\"hour\",'day']\n",
    "for i in object_Variable_List:\n",
    "    Train_data[i] = Train_data[i].astype(\"int64\")\n",
    "    Test_data[i] = Test_data[i].astype(\"int64\")"
   ]
  },
  {
   "cell_type": "code",
   "execution_count": 36,
   "id": "0f051ad9",
   "metadata": {},
   "outputs": [
    {
     "data": {
      "text/plain": [
       "season          int64\n",
       "holiday         int64\n",
       "workingday      int64\n",
       "weather         int64\n",
       "temp          float64\n",
       "atemp         float64\n",
       "humidity        int64\n",
       "windspeed     float64\n",
       "count           int64\n",
       "day             int64\n",
       "hour            int64\n",
       "year            int32\n",
       "weekday         int32\n",
       "month           int32\n",
       "dtype: object"
      ]
     },
     "execution_count": 36,
     "metadata": {},
     "output_type": "execute_result"
    }
   ],
   "source": [
    "Train_data.dtypes"
   ]
  },
  {
   "cell_type": "code",
   "execution_count": 37,
   "id": "f9bc71b8",
   "metadata": {},
   "outputs": [
    {
     "data": {
      "text/plain": [
       "datetime       object\n",
       "season          int64\n",
       "holiday         int64\n",
       "workingday      int64\n",
       "weather         int64\n",
       "temp          float64\n",
       "atemp         float64\n",
       "humidity        int64\n",
       "windspeed     float64\n",
       "day             int64\n",
       "hour            int64\n",
       "year            int32\n",
       "weekday         int32\n",
       "month           int32\n",
       "dtype: object"
      ]
     },
     "execution_count": 37,
     "metadata": {},
     "output_type": "execute_result"
    }
   ],
   "source": [
    "Test_data.dtypes"
   ]
  },
  {
   "cell_type": "markdown",
   "id": "57029d29",
   "metadata": {},
   "source": [
    "### Saperating The Input and Output Variables"
   ]
  },
  {
   "cell_type": "code",
   "execution_count": 38,
   "id": "c7bb4e17",
   "metadata": {},
   "outputs": [],
   "source": [
    "# Splitting the data into Independent and Dependent variables.\n",
    "\n",
    "X = Train_data.drop('count', axis=1)\n",
    "Y = Train_data['count']"
   ]
  },
  {
   "cell_type": "code",
   "execution_count": 39,
   "id": "6f66e65c",
   "metadata": {},
   "outputs": [
    {
     "name": "stdout",
     "output_type": "stream",
     "text": [
      "(10352, 13)\n",
      "(10352,)\n"
     ]
    }
   ],
   "source": [
    "# Let's check the Shape of Input and Output variables.\n",
    "\n",
    "print(X.shape)\n",
    "print(Y.shape)"
   ]
  },
  {
   "cell_type": "code",
   "execution_count": 40,
   "id": "96399834",
   "metadata": {},
   "outputs": [
    {
     "data": {
      "text/html": [
       "<div>\n",
       "<style scoped>\n",
       "    .dataframe tbody tr th:only-of-type {\n",
       "        vertical-align: middle;\n",
       "    }\n",
       "\n",
       "    .dataframe tbody tr th {\n",
       "        vertical-align: top;\n",
       "    }\n",
       "\n",
       "    .dataframe thead th {\n",
       "        text-align: right;\n",
       "    }\n",
       "</style>\n",
       "<table border=\"1\" class=\"dataframe\">\n",
       "  <thead>\n",
       "    <tr style=\"text-align: right;\">\n",
       "      <th></th>\n",
       "      <th>season</th>\n",
       "      <th>holiday</th>\n",
       "      <th>workingday</th>\n",
       "      <th>weather</th>\n",
       "      <th>temp</th>\n",
       "      <th>atemp</th>\n",
       "      <th>humidity</th>\n",
       "      <th>windspeed</th>\n",
       "      <th>day</th>\n",
       "      <th>hour</th>\n",
       "      <th>year</th>\n",
       "      <th>weekday</th>\n",
       "      <th>month</th>\n",
       "    </tr>\n",
       "  </thead>\n",
       "  <tbody>\n",
       "    <tr>\n",
       "      <th>0</th>\n",
       "      <td>1</td>\n",
       "      <td>0</td>\n",
       "      <td>0</td>\n",
       "      <td>1</td>\n",
       "      <td>9.84</td>\n",
       "      <td>14.395</td>\n",
       "      <td>81</td>\n",
       "      <td>0.0</td>\n",
       "      <td>1</td>\n",
       "      <td>0</td>\n",
       "      <td>0</td>\n",
       "      <td>2</td>\n",
       "      <td>4</td>\n",
       "    </tr>\n",
       "    <tr>\n",
       "      <th>1</th>\n",
       "      <td>1</td>\n",
       "      <td>0</td>\n",
       "      <td>0</td>\n",
       "      <td>1</td>\n",
       "      <td>9.02</td>\n",
       "      <td>13.635</td>\n",
       "      <td>80</td>\n",
       "      <td>0.0</td>\n",
       "      <td>1</td>\n",
       "      <td>1</td>\n",
       "      <td>0</td>\n",
       "      <td>2</td>\n",
       "      <td>4</td>\n",
       "    </tr>\n",
       "    <tr>\n",
       "      <th>2</th>\n",
       "      <td>1</td>\n",
       "      <td>0</td>\n",
       "      <td>0</td>\n",
       "      <td>1</td>\n",
       "      <td>9.02</td>\n",
       "      <td>13.635</td>\n",
       "      <td>80</td>\n",
       "      <td>0.0</td>\n",
       "      <td>1</td>\n",
       "      <td>2</td>\n",
       "      <td>0</td>\n",
       "      <td>2</td>\n",
       "      <td>4</td>\n",
       "    </tr>\n",
       "    <tr>\n",
       "      <th>3</th>\n",
       "      <td>1</td>\n",
       "      <td>0</td>\n",
       "      <td>0</td>\n",
       "      <td>1</td>\n",
       "      <td>9.84</td>\n",
       "      <td>14.395</td>\n",
       "      <td>75</td>\n",
       "      <td>0.0</td>\n",
       "      <td>1</td>\n",
       "      <td>3</td>\n",
       "      <td>0</td>\n",
       "      <td>2</td>\n",
       "      <td>4</td>\n",
       "    </tr>\n",
       "    <tr>\n",
       "      <th>4</th>\n",
       "      <td>1</td>\n",
       "      <td>0</td>\n",
       "      <td>0</td>\n",
       "      <td>1</td>\n",
       "      <td>9.84</td>\n",
       "      <td>14.395</td>\n",
       "      <td>75</td>\n",
       "      <td>0.0</td>\n",
       "      <td>1</td>\n",
       "      <td>4</td>\n",
       "      <td>0</td>\n",
       "      <td>2</td>\n",
       "      <td>4</td>\n",
       "    </tr>\n",
       "  </tbody>\n",
       "</table>\n",
       "</div>"
      ],
      "text/plain": [
       "   season  holiday  workingday  weather  temp   atemp  humidity  windspeed  \\\n",
       "0       1        0           0        1  9.84  14.395        81        0.0   \n",
       "1       1        0           0        1  9.02  13.635        80        0.0   \n",
       "2       1        0           0        1  9.02  13.635        80        0.0   \n",
       "3       1        0           0        1  9.84  14.395        75        0.0   \n",
       "4       1        0           0        1  9.84  14.395        75        0.0   \n",
       "\n",
       "   day  hour  year  weekday  month  \n",
       "0    1     0     0        2      4  \n",
       "1    1     1     0        2      4  \n",
       "2    1     2     0        2      4  \n",
       "3    1     3     0        2      4  \n",
       "4    1     4     0        2      4  "
      ]
     },
     "execution_count": 40,
     "metadata": {},
     "output_type": "execute_result"
    }
   ],
   "source": [
    "# Checking the Independent variables.\n",
    "\n",
    "X.head()"
   ]
  },
  {
   "cell_type": "code",
   "execution_count": 41,
   "id": "6ab9e11c",
   "metadata": {},
   "outputs": [
    {
     "data": {
      "text/plain": [
       "0    16\n",
       "1    40\n",
       "2    32\n",
       "3    13\n",
       "4     1\n",
       "Name: count, dtype: int64"
      ]
     },
     "execution_count": 41,
     "metadata": {},
     "output_type": "execute_result"
    }
   ],
   "source": [
    "# Checking the Dependent variable.\n",
    "\n",
    "Y.head()"
   ]
  },
  {
   "cell_type": "markdown",
   "id": "2295abbb",
   "metadata": {},
   "source": [
    "### Splitting the Train data"
   ]
  },
  {
   "cell_type": "markdown",
   "id": "56d68cb5",
   "metadata": {},
   "source": [
    "**Splitting the Train data into train and test set, ratio being 75% and 25% respectively.**"
   ]
  },
  {
   "cell_type": "code",
   "execution_count": 42,
   "id": "b1179517",
   "metadata": {},
   "outputs": [],
   "source": [
    "# Importing library for split Train data\n",
    "from sklearn.model_selection import train_test_split\n",
    "X_train,X_test,Y_train,Y_test=train_test_split(X,Y,random_state=42,test_size=0.25)"
   ]
  },
  {
   "cell_type": "markdown",
   "id": "08a6b91d",
   "metadata": {},
   "source": [
    "**HERE ALL THE VARIABLES OR FEATURES ARE NUMERIC AND THE TARGET VARIABLE THAT WE HAVE TO PREDICT IS THE count VARIABLE. HENCE THIS IS A TYPICAL EXAMPLE OF A REGRESSION PROBLEM AS THE count VARIABLE IS CONTINUOUS VARIED.**"
   ]
  },
  {
   "cell_type": "markdown",
   "id": "6421c9a1",
   "metadata": {},
   "source": [
    "### Model Building"
   ]
  },
  {
   "cell_type": "code",
   "execution_count": 43,
   "id": "d2df9160",
   "metadata": {},
   "outputs": [],
   "source": [
    "models=[RandomForestRegressor(),AdaBoostRegressor(),BaggingRegressor(),\n",
    "        KNeighborsRegressor()]\n",
    "model_names=['RandomForestRegressor','AdaBoostRegressor','BaggingRegressor',\n",
    "             'KNeighborsRegressor']\n",
    "r2score=[]\n",
    "d={}\n",
    "for model in range (len(models)):\n",
    "    clf=models[model]\n",
    "    clf.fit(X_train,Y_train)\n",
    "    test_pred=clf.predict(X_test)\n",
    "    r2score.append(np.sqrt(r2_score(test_pred,Y_test)))\n",
    "d={'Modelling Algo':model_names,'R2_error':r2score}   "
   ]
  },
  {
   "cell_type": "code",
   "execution_count": 44,
   "id": "bb2a5e35",
   "metadata": {},
   "outputs": [
    {
     "data": {
      "text/plain": [
       "{'Modelling Algo': ['RandomForestRegressor',\n",
       "  'AdaBoostRegressor',\n",
       "  'BaggingRegressor',\n",
       "  'KNeighborsRegressor'],\n",
       " 'R2_error': [0.9590590243855545,\n",
       "  0.6739147127471509,\n",
       "  0.9547214375189823,\n",
       "  0.4724880119744675]}"
      ]
     },
     "execution_count": 44,
     "metadata": {},
     "output_type": "execute_result"
    }
   ],
   "source": [
    "d"
   ]
  },
  {
   "cell_type": "code",
   "execution_count": 45,
   "id": "348d76f3",
   "metadata": {},
   "outputs": [
    {
     "data": {
      "text/html": [
       "<div>\n",
       "<style scoped>\n",
       "    .dataframe tbody tr th:only-of-type {\n",
       "        vertical-align: middle;\n",
       "    }\n",
       "\n",
       "    .dataframe tbody tr th {\n",
       "        vertical-align: top;\n",
       "    }\n",
       "\n",
       "    .dataframe thead th {\n",
       "        text-align: right;\n",
       "    }\n",
       "</style>\n",
       "<table border=\"1\" class=\"dataframe\">\n",
       "  <thead>\n",
       "    <tr style=\"text-align: right;\">\n",
       "      <th></th>\n",
       "      <th>Modelling Algo</th>\n",
       "      <th>R2_error</th>\n",
       "    </tr>\n",
       "  </thead>\n",
       "  <tbody>\n",
       "    <tr>\n",
       "      <th>0</th>\n",
       "      <td>RandomForestRegressor</td>\n",
       "      <td>0.959059</td>\n",
       "    </tr>\n",
       "    <tr>\n",
       "      <th>1</th>\n",
       "      <td>AdaBoostRegressor</td>\n",
       "      <td>0.673915</td>\n",
       "    </tr>\n",
       "    <tr>\n",
       "      <th>2</th>\n",
       "      <td>BaggingRegressor</td>\n",
       "      <td>0.954721</td>\n",
       "    </tr>\n",
       "    <tr>\n",
       "      <th>3</th>\n",
       "      <td>KNeighborsRegressor</td>\n",
       "      <td>0.472488</td>\n",
       "    </tr>\n",
       "  </tbody>\n",
       "</table>\n",
       "</div>"
      ],
      "text/plain": [
       "          Modelling Algo  R2_error\n",
       "0  RandomForestRegressor  0.959059\n",
       "1      AdaBoostRegressor  0.673915\n",
       "2       BaggingRegressor  0.954721\n",
       "3    KNeighborsRegressor  0.472488"
      ]
     },
     "execution_count": 45,
     "metadata": {},
     "output_type": "execute_result"
    }
   ],
   "source": [
    "rmsle_frame=pd.DataFrame(d)\n",
    "rmsle_frame"
   ]
  },
  {
   "cell_type": "markdown",
   "id": "515aa095",
   "metadata": {},
   "source": [
    "**r2 score : the proportion of the variance in the dependent variable that is predictable from the independent variable(s).” Another definition is “(total variance explained by model) / total variance.” So if it is 100%, the two variables are perfectly correlated, i.e., with no variance at all.**"
   ]
  },
  {
   "cell_type": "markdown",
   "id": "e2ded296",
   "metadata": {},
   "source": [
    "- **We have build four models (RandomForestRegressor(),AdaBoostRegressor(),BaggingRegressor(),KNeighborsRegressor()).**\n",
    "- **We have checked the r2 score in each of this model.**\n",
    "- **We have notice that RandomForestRegressor() Model has more r2 score > 95 compare to the other model.**\n",
    "- **We have fixed RandomForestRegressor() model for calculating demand of bikes.** "
   ]
  },
  {
   "cell_type": "markdown",
   "id": "7c0bfa7a",
   "metadata": {},
   "source": [
    "### Making the Final predictions"
   ]
  },
  {
   "cell_type": "markdown",
   "id": "282fb861",
   "metadata": {},
   "source": [
    "**Now we will predict 'count' for Test data using RandomForestRegressor() Model.**"
   ]
  },
  {
   "cell_type": "code",
   "execution_count": 46,
   "id": "7a8b8079",
   "metadata": {},
   "outputs": [
    {
     "name": "stdout",
     "output_type": "stream",
     "text": [
      "0.35463168565781356\n"
     ]
    }
   ],
   "source": [
    "#for random forest regresion.\n",
    "no_of_test=[500]\n",
    "params_dict={'n_estimators':no_of_test,'n_jobs':[-1],'max_features':[\"auto\",'sqrt','log2']}\n",
    "clf_rf=GridSearchCV(estimator=RandomForestRegressor(),param_grid=params_dict,scoring='neg_mean_squared_log_error')\n",
    "clf_rf.fit(X_train,Y_train)\n",
    "pred=clf_rf.predict(X_test)\n",
    "print((np.sqrt(mean_squared_log_error(pred,Y_test))))"
   ]
  },
  {
   "cell_type": "markdown",
   "id": "9e8cfc77",
   "metadata": {},
   "source": [
    "### Saving to a csv file for predictions on kaggle."
   ]
  },
  {
   "cell_type": "code",
   "execution_count": 47,
   "id": "260a290d",
   "metadata": {},
   "outputs": [],
   "source": [
    "pred=clf_rf.predict(Test_data.drop('datetime',axis=1))\n",
    "d={'datetime':Test_data['datetime'],'count':pred}\n",
    "ans=pd.DataFrame(d)\n",
    "ans.to_csv('answer.csv',index=False)"
   ]
  }
 ],
 "metadata": {
  "kernelspec": {
   "display_name": "Python 3 (ipykernel)",
   "language": "python",
   "name": "python3"
  },
  "language_info": {
   "codemirror_mode": {
    "name": "ipython",
    "version": 3
   },
   "file_extension": ".py",
   "mimetype": "text/x-python",
   "name": "python",
   "nbconvert_exporter": "python",
   "pygments_lexer": "ipython3",
   "version": "3.7.11"
  }
 },
 "nbformat": 4,
 "nbformat_minor": 5
}
